{
 "cells": [
  {
   "cell_type": "markdown",
   "id": "ce0974d8",
   "metadata": {},
   "source": [
    "# DataScience"
   ]
  },
  {
   "cell_type": "markdown",
   "id": "51a513a3",
   "metadata": {},
   "source": [
    "## 1. 문제 정의하기\n",
    "\n",
    "### 해결하고자 하는 문제를 정의"
   ]
  },
  {
   "cell_type": "markdown",
   "id": "e1ea46ef",
   "metadata": {},
   "source": [
    "* 목표 설정  : 해결하고자 하는게 무엇인지\n",
    "    \n",
    "* 기간 설정  : 언제까지 어떤 결과물을 얻을 것인지\n",
    "    \n",
    "* 평가 방법 설정\n",
    "\n",
    "* 필요한 데이터 설정 : 어떤 방식으로 데이터를 활용할 것인지"
   ]
  },
  {
   "cell_type": "markdown",
   "id": "5a12bae5",
   "metadata": {},
   "source": [
    "## 2. 데이터 모으기\n",
    "\n",
    "### 필요한 데이터를 모을 수 있는 방법을 찾기"
   ]
  },
  {
   "cell_type": "markdown",
   "id": "b5f8f259",
   "metadata": {},
   "source": [
    "* 웹 크롤링 : 웹 사이트에서 직접 데이터를 수집\n",
    "    \n",
    "* 자료 모으기 : 누군가 이미 모아놓은 데이터를 그대로 사용, 공공기관에서 배포한 자료들 \n",
    "    \n",
    "* 파일 읽고 쓰기"
   ]
  },
  {
   "cell_type": "markdown",
   "id": "282d6425",
   "metadata": {},
   "source": [
    "## 3. 데이터 다듬기\n",
    "\n",
    "### 데이터의 퀄리티를 높여서 의미 있는 분석이 가능하도록 하기\n",
    "### garbage in, garbage out"
   ]
  },
  {
   "cell_type": "markdown",
   "id": "ca014fdb",
   "metadata": {},
   "source": [
    "* 데이터 관찰하기\n",
    "\n",
    "* 데이터 오류 제거\n",
    "\n",
    "* 데이터 정리하기"
   ]
  },
  {
   "cell_type": "markdown",
   "id": "a6403289",
   "metadata": {},
   "source": [
    "## 4. 데이터 분석하기\n",
    "\n",
    "### 준비된 데이터로부터 의미를 찾기"
   ]
  },
  {
   "cell_type": "markdown",
   "id": "647ccd77",
   "metadata": {},
   "source": [
    "* 데이터 파악하기\n",
    "\n",
    "* 데이터 변형하기\n",
    "\n",
    "* 통계 분석\n",
    "\n",
    "* 인사이트 발견\n",
    "\n",
    "* 의미 도출"
   ]
  },
  {
   "cell_type": "markdown",
   "id": "4096600d",
   "metadata": {},
   "source": [
    "## 5. 커뮤니케이션\n",
    "\n",
    "### 분석결과를 다른 사람들에게 전달\n",
    "### 어떤 문제를 해결하려 했는지, 어떻게 데이터를 모았는지, 어떤 방식으로 인사이트를 얻었는지 "
   ]
  },
  {
   "cell_type": "markdown",
   "id": "ebcfa248",
   "metadata": {},
   "source": [
    "* 다양한 시각화\n",
    "\n",
    "* 커뮤니케이션 \n",
    "\n",
    "* 리포트"
   ]
  },
  {
   "cell_type": "code",
   "execution_count": null,
   "id": "ac6e2dd3",
   "metadata": {},
   "outputs": [],
   "source": []
  }
 ],
 "metadata": {
  "kernelspec": {
   "display_name": "Python 3",
   "language": "python",
   "name": "python3"
  },
  "language_info": {
   "codemirror_mode": {
    "name": "ipython",
    "version": 3
   },
   "file_extension": ".py",
   "mimetype": "text/x-python",
   "name": "python",
   "nbconvert_exporter": "python",
   "pygments_lexer": "ipython3",
   "version": "3.8.8"
  }
 },
 "nbformat": 4,
 "nbformat_minor": 5
}
