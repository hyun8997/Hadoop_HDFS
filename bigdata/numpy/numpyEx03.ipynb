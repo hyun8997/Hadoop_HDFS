{
 "cells": [
  {
   "cell_type": "code",
   "execution_count": null,
   "id": "845011e1",
   "metadata": {},
   "outputs": [],
   "source": [
    "'''\n",
    "# sort 명령이나 메소드를 사용하여 배열 안의 원소를 크기에 따라 정렬하면 새로운 배열을 만들 수 있다는 아이디어\n",
    "  2차원 이상인 경우는 행이나 열을 각각 따로 정렬할 수 있음. axis 인수 이용하여 결정\n",
    "  axis=0 : 열 정렬, axis = 1 : 행 정렬\n",
    "'''"
   ]
  },
  {
   "cell_type": "code",
   "execution_count": 1,
   "id": "0404932b",
   "metadata": {},
   "outputs": [],
   "source": [
    "import numpy as np"
   ]
  },
  {
   "cell_type": "code",
   "execution_count": 3,
   "id": "18cdc2fb",
   "metadata": {},
   "outputs": [
    {
     "data": {
      "text/plain": [
       "array([[ 4,  3,  5,  6],\n",
       "       [ 1, 12, 11,  9],\n",
       "       [ 2, 15,  1, 18]])"
      ]
     },
     "execution_count": 3,
     "metadata": {},
     "output_type": "execute_result"
    }
   ],
   "source": [
    "a = np.array([[4, 3, 5, 6],\n",
    "             [1, 12, 11, 9],\n",
    "              [2, 15, 1, 18]])\n",
    "\n",
    "a"
   ]
  },
  {
   "cell_type": "code",
   "execution_count": 4,
   "id": "1b60695f",
   "metadata": {},
   "outputs": [
    {
     "data": {
      "text/plain": [
       "array([[ 3,  4,  5,  6],\n",
       "       [ 1,  9, 11, 12],\n",
       "       [ 1,  2, 15, 18]])"
      ]
     },
     "execution_count": 4,
     "metadata": {},
     "output_type": "execute_result"
    }
   ],
   "source": [
    "np.sort(a)    # default : 행 정렬"
   ]
  },
  {
   "cell_type": "code",
   "execution_count": 7,
   "id": "c99496a1",
   "metadata": {},
   "outputs": [
    {
     "data": {
      "text/plain": [
       "array([[ 1,  3,  1,  6],\n",
       "       [ 2, 12,  5,  9],\n",
       "       [ 4, 15, 11, 18]])"
      ]
     },
     "execution_count": 7,
     "metadata": {},
     "output_type": "execute_result"
    }
   ],
   "source": [
    "np.sort(a, axis=0)"
   ]
  },
  {
   "cell_type": "code",
   "execution_count": 9,
   "id": "a01b1526",
   "metadata": {},
   "outputs": [
    {
     "data": {
      "text/plain": [
       "array([[ 3,  4,  5,  6],\n",
       "       [ 1,  9, 11, 12],\n",
       "       [ 1,  2, 15, 18]])"
      ]
     },
     "execution_count": 9,
     "metadata": {},
     "output_type": "execute_result"
    }
   ],
   "source": [
    "np.sort(a, axis=1)"
   ]
  },
  {
   "cell_type": "code",
   "execution_count": 12,
   "id": "4cc10a88",
   "metadata": {},
   "outputs": [
    {
     "data": {
      "text/plain": [
       "array([4, 3, 1, 2])"
      ]
     },
     "execution_count": 12,
     "metadata": {},
     "output_type": "execute_result"
    }
   ],
   "source": [
    "# argsort() : 인덱스 번호가 정렬 되었을 때 어떤 순서로 정렬될 지 그 인덱스 번호만 알려주는 함수\n",
    "b = np.array([4, 3, 1, 2])\n",
    "b"
   ]
  },
  {
   "cell_type": "code",
   "execution_count": 13,
   "id": "5cf19dd6",
   "metadata": {},
   "outputs": [
    {
     "name": "stdout",
     "output_type": "stream",
     "text": [
      "[2 3 1 0]\n"
     ]
    }
   ],
   "source": [
    "i = np.argsort(b)\n",
    "print(i)"
   ]
  },
  {
   "cell_type": "code",
   "execution_count": 14,
   "id": "a52c00bc",
   "metadata": {},
   "outputs": [
    {
     "data": {
      "text/plain": [
       "array([1, 2, 3, 4])"
      ]
     },
     "execution_count": 14,
     "metadata": {},
     "output_type": "execute_result"
    }
   ],
   "source": [
    "b[i]"
   ]
  },
  {
   "cell_type": "code",
   "execution_count": null,
   "id": "e3eabb65",
   "metadata": {},
   "outputs": [],
   "source": [
    "'''\n",
    "# 배열 나누기 (쪼개기) : split()\n",
    "'''"
   ]
  },
  {
   "cell_type": "code",
   "execution_count": 15,
   "id": "47401ee6",
   "metadata": {},
   "outputs": [],
   "source": [
    "a = np.array([1, 2, 3])\n",
    "b = np.array([3, 2, 3])"
   ]
  },
  {
   "cell_type": "code",
   "execution_count": 16,
   "id": "b616ac09",
   "metadata": {},
   "outputs": [
    {
     "data": {
      "text/plain": [
       "array([[1, 3],\n",
       "       [2, 2],\n",
       "       [3, 3]])"
      ]
     },
     "execution_count": 16,
     "metadata": {},
     "output_type": "execute_result"
    }
   ],
   "source": [
    "# 배열 : column_stack()\n",
    "np.column_stack((a, b))"
   ]
  },
  {
   "cell_type": "code",
   "execution_count": 17,
   "id": "33865c24",
   "metadata": {},
   "outputs": [],
   "source": [
    "c = np.array([4, 6, 5])"
   ]
  },
  {
   "cell_type": "code",
   "execution_count": 18,
   "id": "83f90979",
   "metadata": {},
   "outputs": [
    {
     "data": {
      "text/plain": [
       "array([[1, 3, 4],\n",
       "       [2, 2, 6],\n",
       "       [3, 3, 5]])"
      ]
     },
     "execution_count": 18,
     "metadata": {},
     "output_type": "execute_result"
    }
   ],
   "source": [
    "np.column_stack((a, b, c))"
   ]
  },
  {
   "cell_type": "code",
   "execution_count": 19,
   "id": "a7845caa",
   "metadata": {},
   "outputs": [
    {
     "data": {
      "text/plain": [
       "array([0, 1, 2, 3, 4, 5, 6, 7, 8])"
      ]
     },
     "execution_count": 19,
     "metadata": {},
     "output_type": "execute_result"
    }
   ],
   "source": [
    "# 배열 쪼개기\n",
    "x = np.arange(9); x"
   ]
  },
  {
   "cell_type": "code",
   "execution_count": 20,
   "id": "fb62bad2",
   "metadata": {},
   "outputs": [
    {
     "data": {
      "text/plain": [
       "[array([0, 1, 2]), array([3, 4, 5]), array([6, 7, 8])]"
      ]
     },
     "execution_count": 20,
     "metadata": {},
     "output_type": "execute_result"
    }
   ],
   "source": [
    "np.split(x, 3)    # 각 값을 3등분해서 새로운 배열로 만들기"
   ]
  },
  {
   "cell_type": "code",
   "execution_count": 21,
   "id": "facc5957",
   "metadata": {},
   "outputs": [
    {
     "data": {
      "text/plain": [
       "[array([0, 1, 2]), array([3, 4, 5]), array([6, 7, 8])]"
      ]
     },
     "execution_count": 21,
     "metadata": {},
     "output_type": "execute_result"
    }
   ],
   "source": [
    "y = np.split(x, 3); y"
   ]
  },
  {
   "cell_type": "code",
   "execution_count": 22,
   "id": "6366e3eb",
   "metadata": {},
   "outputs": [
    {
     "name": "stdout",
     "output_type": "stream",
     "text": [
      "[0 1 2]\n",
      "[3 4 5]\n",
      "[6 7 8]\n"
     ]
    }
   ],
   "source": [
    "print(y[0])\n",
    "print(y[1])\n",
    "print(y[2])"
   ]
  },
  {
   "cell_type": "code",
   "execution_count": 24,
   "id": "bd5cf65f",
   "metadata": {},
   "outputs": [
    {
     "data": {
      "text/plain": [
       "[array([0, 1, 2]), array([3]), array([4, 5, 6, 7, 8])]"
      ]
     },
     "execution_count": 24,
     "metadata": {},
     "output_type": "execute_result"
    }
   ],
   "source": [
    "# 요소 나누기\n",
    "x2 = np.split(x, [3, 4])  # [3, 4] : x 배열의 인덱스 번호를 여러개 선택해서 나눌 수 있음\n",
    "x2"
   ]
  },
  {
   "cell_type": "code",
   "execution_count": 25,
   "id": "7b004092",
   "metadata": {},
   "outputs": [
    {
     "data": {
      "text/plain": [
       "[array([0, 1]), array([2, 3, 4]), array([5, 6]), array([7, 8])]"
      ]
     },
     "execution_count": 25,
     "metadata": {},
     "output_type": "execute_result"
    }
   ],
   "source": [
    "x3 = np.split(x, [2, 5, 7])\n",
    "x3"
   ]
  },
  {
   "cell_type": "code",
   "execution_count": 26,
   "id": "d02679ac",
   "metadata": {},
   "outputs": [
    {
     "data": {
      "text/plain": [
       "[array([0, 1]), array([2, 3]), array([4, 5, 6, 7, 8]), array([], dtype=int32)]"
      ]
     },
     "execution_count": 26,
     "metadata": {},
     "output_type": "execute_result"
    }
   ],
   "source": [
    "x4 = np.split(x, [2, 4, 10])  # 없는 인덱스 번호로 나누는 것은 pass\n",
    "x4"
   ]
  },
  {
   "cell_type": "code",
   "execution_count": 27,
   "id": "9e302026",
   "metadata": {},
   "outputs": [
    {
     "data": {
      "text/plain": [
       "[array([0, 1]), array([2, 3]), array([4, 5, 6, 7, 8]), array([], dtype=int32)]"
      ]
     },
     "execution_count": 27,
     "metadata": {},
     "output_type": "execute_result"
    }
   ],
   "source": [
    "# split = array_split\n",
    "x5 = np.array_split(x, [2, 4, 10])\n",
    "x5"
   ]
  },
  {
   "cell_type": "code",
   "execution_count": 28,
   "id": "0aeaeab2",
   "metadata": {},
   "outputs": [
    {
     "data": {
      "text/plain": [
       "array([[[ 0,  1,  2,  3],\n",
       "        [ 4,  5,  6,  7]],\n",
       "\n",
       "       [[ 8,  9, 10, 11],\n",
       "        [12, 13, 14, 15]]])"
      ]
     },
     "execution_count": 28,
     "metadata": {},
     "output_type": "execute_result"
    }
   ],
   "source": [
    "y = np.arange(16).reshape(2, 2, 4); y"
   ]
  },
  {
   "cell_type": "code",
   "execution_count": 29,
   "id": "b4cde218",
   "metadata": {},
   "outputs": [
    {
     "data": {
      "text/plain": [
       "[array([[[ 0,  1],\n",
       "         [ 4,  5]],\n",
       " \n",
       "        [[ 8,  9],\n",
       "         [12, 13]]]),\n",
       " array([[[ 2,  3],\n",
       "         [ 6,  7]],\n",
       " \n",
       "        [[10, 11],\n",
       "         [14, 15]]])]"
      ]
     },
     "execution_count": 29,
     "metadata": {},
     "output_type": "execute_result"
    }
   ],
   "source": [
    "# dsplit : 다른 차원을 같은 열 기준으로 같이 나눠서 묶기\n",
    "y1 = np.dsplit(y, 2); y1"
   ]
  },
  {
   "cell_type": "code",
   "execution_count": 30,
   "id": "05fbc95c",
   "metadata": {},
   "outputs": [
    {
     "data": {
      "text/plain": [
       "array([[ 0,  1,  2,  3],\n",
       "       [ 4,  5,  6,  7],\n",
       "       [ 8,  9, 10, 11],\n",
       "       [12, 13, 14, 15]])"
      ]
     },
     "execution_count": 30,
     "metadata": {},
     "output_type": "execute_result"
    }
   ],
   "source": [
    "z = np.arange(16).reshape(4, 4); z"
   ]
  },
  {
   "cell_type": "code",
   "execution_count": 31,
   "id": "577fc41b",
   "metadata": {},
   "outputs": [
    {
     "data": {
      "text/plain": [
       "[array([[ 0,  1],\n",
       "        [ 4,  5],\n",
       "        [ 8,  9],\n",
       "        [12, 13]]),\n",
       " array([[ 2,  3],\n",
       "        [ 6,  7],\n",
       "        [10, 11],\n",
       "        [14, 15]])]"
      ]
     },
     "execution_count": 31,
     "metadata": {},
     "output_type": "execute_result"
    }
   ],
   "source": [
    "# hsplit : 차원을 열별로 나누기\n",
    "z1 = np.hsplit(z, 2); z1"
   ]
  },
  {
   "cell_type": "code",
   "execution_count": 32,
   "id": "2ef2636a",
   "metadata": {},
   "outputs": [
    {
     "data": {
      "text/plain": [
       "[array([[ 0,  1],\n",
       "        [ 4,  5],\n",
       "        [ 8,  9],\n",
       "        [12, 13]]),\n",
       " array([[ 2,  3],\n",
       "        [ 6,  7],\n",
       "        [10, 11],\n",
       "        [14, 15]]),\n",
       " array([], shape=(4, 0), dtype=int32)]"
      ]
     },
     "execution_count": 32,
     "metadata": {},
     "output_type": "execute_result"
    }
   ],
   "source": [
    "z2 = np.hsplit(z, [2, 5]); z2"
   ]
  },
  {
   "cell_type": "code",
   "execution_count": 33,
   "id": "db9b2226",
   "metadata": {},
   "outputs": [
    {
     "data": {
      "text/plain": [
       "array([[[0, 1],\n",
       "        [2, 3]],\n",
       "\n",
       "       [[4, 5],\n",
       "        [6, 7]]])"
      ]
     },
     "execution_count": 33,
     "metadata": {},
     "output_type": "execute_result"
    }
   ],
   "source": [
    "# 고차원을 열 별로 나누기\n",
    "h = np.arange(8).reshape(2, 2, 2); h"
   ]
  },
  {
   "cell_type": "code",
   "execution_count": 34,
   "id": "37a81bff",
   "metadata": {},
   "outputs": [
    {
     "data": {
      "text/plain": [
       "[array([[[0, 1]],\n",
       " \n",
       "        [[4, 5]]]),\n",
       " array([[[2, 3]],\n",
       " \n",
       "        [[6, 7]]])]"
      ]
     },
     "execution_count": 34,
     "metadata": {},
     "output_type": "execute_result"
    }
   ],
   "source": [
    "h1 = np.hsplit(h, 2); h1"
   ]
  },
  {
   "cell_type": "code",
   "execution_count": 36,
   "id": "2baa2b7c",
   "metadata": {},
   "outputs": [
    {
     "data": {
      "text/plain": [
       "array([[ 0,  1,  2,  3],\n",
       "       [ 4,  5,  6,  7],\n",
       "       [ 8,  9, 10, 11],\n",
       "       [12, 13, 14, 15]])"
      ]
     },
     "execution_count": 36,
     "metadata": {},
     "output_type": "execute_result"
    }
   ],
   "source": [
    "# vsplit : 행으로 나누기\n",
    "v = np.arange(16).reshape(4, 4); v"
   ]
  },
  {
   "cell_type": "code",
   "execution_count": 37,
   "id": "158c7754",
   "metadata": {},
   "outputs": [
    {
     "data": {
      "text/plain": [
       "[array([[0, 1, 2, 3],\n",
       "        [4, 5, 6, 7]]),\n",
       " array([[ 8,  9, 10, 11],\n",
       "        [12, 13, 14, 15]])]"
      ]
     },
     "execution_count": 37,
     "metadata": {},
     "output_type": "execute_result"
    }
   ],
   "source": [
    "v1 = np.vsplit(v, 2); v1"
   ]
  },
  {
   "cell_type": "code",
   "execution_count": 38,
   "id": "a221745f",
   "metadata": {},
   "outputs": [
    {
     "data": {
      "text/plain": [
       "[array([[0, 1, 2, 3]]),\n",
       " array([[ 4,  5,  6,  7],\n",
       "        [ 8,  9, 10, 11]]),\n",
       " array([[12, 13, 14, 15]])]"
      ]
     },
     "execution_count": 38,
     "metadata": {},
     "output_type": "execute_result"
    }
   ],
   "source": [
    "v2 = np.vsplit(v, [1, 3]); v2"
   ]
  },
  {
   "cell_type": "code",
   "execution_count": 39,
   "id": "4c80db12",
   "metadata": {},
   "outputs": [
    {
     "data": {
      "text/plain": [
       "array([[[0, 1],\n",
       "        [2, 3]],\n",
       "\n",
       "       [[4, 5],\n",
       "        [6, 7]]])"
      ]
     },
     "execution_count": 39,
     "metadata": {},
     "output_type": "execute_result"
    }
   ],
   "source": [
    "# 고차원 행으로 나누기\n",
    "v3 = np.arange(8).reshape(2, 2, 2); v3"
   ]
  },
  {
   "cell_type": "code",
   "execution_count": 40,
   "id": "803020d7",
   "metadata": {},
   "outputs": [
    {
     "data": {
      "text/plain": [
       "[array([[[0, 1],\n",
       "         [2, 3]]]),\n",
       " array([[[4, 5],\n",
       "         [6, 7]]])]"
      ]
     },
     "execution_count": 40,
     "metadata": {},
     "output_type": "execute_result"
    }
   ],
   "source": [
    "v4 = np.vsplit(v3, 2); v4"
   ]
  },
  {
   "cell_type": "code",
   "execution_count": null,
   "id": "4e64ed1d",
   "metadata": {},
   "outputs": [],
   "source": []
  },
  {
   "cell_type": "code",
   "execution_count": null,
   "id": "bb6a30fb",
   "metadata": {},
   "outputs": [],
   "source": [
    "'''\n",
    "# 요소에 대한 추가 / 삭제\n",
    "'''"
   ]
  },
  {
   "cell_type": "code",
   "execution_count": 41,
   "id": "d8f69dac",
   "metadata": {},
   "outputs": [],
   "source": [
    "import numpy as np"
   ]
  },
  {
   "cell_type": "code",
   "execution_count": 42,
   "id": "039efab2",
   "metadata": {},
   "outputs": [
    {
     "data": {
      "text/plain": [
       "array([[ 1,  2,  3,  4],\n",
       "       [ 5,  6,  7,  8],\n",
       "       [ 9, 10, 11, 12]])"
      ]
     },
     "execution_count": 42,
     "metadata": {},
     "output_type": "execute_result"
    }
   ],
   "source": [
    "# 삭제 : np.delete(원데이터, index, axis)\n",
    "arr = np.array([[1, 2, 3, 4], [5, 6, 7, 8], [9, 10, 11, 12]]); arr"
   ]
  },
  {
   "cell_type": "code",
   "execution_count": 43,
   "id": "d66b9b30",
   "metadata": {},
   "outputs": [
    {
     "data": {
      "text/plain": [
       "array([ 1,  3,  4,  5,  6,  7,  8,  9, 10, 11, 12])"
      ]
     },
     "execution_count": 43,
     "metadata": {},
     "output_type": "execute_result"
    }
   ],
   "source": [
    "arr1 = np.delete(arr, 1); arr1         # 전체를 한 집합으로 보고 인덱스 1번을 삭제"
   ]
  },
  {
   "cell_type": "code",
   "execution_count": 44,
   "id": "a403cf0f",
   "metadata": {},
   "outputs": [
    {
     "data": {
      "text/plain": [
       "array([[ 1,  2,  3,  4],\n",
       "       [ 9, 10, 11, 12]])"
      ]
     },
     "execution_count": 44,
     "metadata": {},
     "output_type": "execute_result"
    }
   ],
   "source": [
    "arr2 = np.delete(arr, 1, 0); arr2"
   ]
  },
  {
   "cell_type": "code",
   "execution_count": 45,
   "id": "bbe398c2",
   "metadata": {},
   "outputs": [
    {
     "data": {
      "text/plain": [
       "array([[ 1,  2,  4],\n",
       "       [ 5,  6,  8],\n",
       "       [ 9, 10, 12]])"
      ]
     },
     "execution_count": 45,
     "metadata": {},
     "output_type": "execute_result"
    }
   ],
   "source": [
    "arr3 = np.delete(arr, 2, 1); arr3"
   ]
  },
  {
   "cell_type": "code",
   "execution_count": null,
   "id": "33b06b03",
   "metadata": {},
   "outputs": [],
   "source": [
    "# 추가 : insert (원데이터, index, 추가할데이터, axis)"
   ]
  },
  {
   "cell_type": "code",
   "execution_count": 46,
   "id": "7c051a83",
   "metadata": {},
   "outputs": [
    {
     "data": {
      "text/plain": [
       "array([[1, 1],\n",
       "       [2, 2],\n",
       "       [3, 3]])"
      ]
     },
     "execution_count": 46,
     "metadata": {},
     "output_type": "execute_result"
    }
   ],
   "source": [
    "a = np.array([[1, 1], [2, 2], [3, 3]]); a"
   ]
  },
  {
   "cell_type": "code",
   "execution_count": 47,
   "id": "002748bb",
   "metadata": {},
   "outputs": [
    {
     "data": {
      "text/plain": [
       "array([  1, 100,   1,   2,   2,   3,   3])"
      ]
     },
     "execution_count": 47,
     "metadata": {},
     "output_type": "execute_result"
    }
   ],
   "source": [
    "a1 = np.insert(a, 1, 100); a1"
   ]
  },
  {
   "cell_type": "code",
   "execution_count": 48,
   "id": "bffa76f7",
   "metadata": {},
   "outputs": [
    {
     "data": {
      "text/plain": [
       "array([[  1, 100,   1],\n",
       "       [  2, 100,   2],\n",
       "       [  3, 100,   3]])"
      ]
     },
     "execution_count": 48,
     "metadata": {},
     "output_type": "execute_result"
    }
   ],
   "source": [
    "a2 = np.insert(a, 1, 100, axis=1); a2"
   ]
  },
  {
   "cell_type": "code",
   "execution_count": 49,
   "id": "4dee2250",
   "metadata": {},
   "outputs": [
    {
     "data": {
      "text/plain": [
       "array([[  1,   1],\n",
       "       [100, 100],\n",
       "       [  2,   2],\n",
       "       [  3,   3]])"
      ]
     },
     "execution_count": 49,
     "metadata": {},
     "output_type": "execute_result"
    }
   ],
   "source": [
    "a3 = np.insert(a, 1, 100, axis=0); a3"
   ]
  },
  {
   "cell_type": "code",
   "execution_count": 51,
   "id": "716b114b",
   "metadata": {},
   "outputs": [
    {
     "data": {
      "text/plain": [
       "array([[  1, 100,   1],\n",
       "       [  2, 200,   2],\n",
       "       [  3, 300,   3]])"
      ]
     },
     "execution_count": 51,
     "metadata": {},
     "output_type": "execute_result"
    }
   ],
   "source": [
    "a4 = np.insert(a, 1, [100, 200, 300], axis=1); a4  # 서로 다른 값을 추가하려면 list 로 지정"
   ]
  },
  {
   "cell_type": "code",
   "execution_count": null,
   "id": "89f57bbe",
   "metadata": {},
   "outputs": [],
   "source": [
    "# 추가 : append"
   ]
  },
  {
   "cell_type": "code",
   "execution_count": 52,
   "id": "27257507",
   "metadata": {},
   "outputs": [
    {
     "data": {
      "text/plain": [
       "array([[1, 2, 3],\n",
       "       [4, 5, 6]])"
      ]
     },
     "execution_count": 52,
     "metadata": {},
     "output_type": "execute_result"
    }
   ],
   "source": [
    "b = np.array([[1, 2, 3], [4, 5, 6]]); b"
   ]
  },
  {
   "cell_type": "code",
   "execution_count": 53,
   "id": "11523784",
   "metadata": {},
   "outputs": [
    {
     "ename": "ValueError",
     "evalue": "all the input arrays must have same number of dimensions, but the array at index 0 has 2 dimension(s) and the array at index 1 has 1 dimension(s)",
     "output_type": "error",
     "traceback": [
      "\u001b[1;31m---------------------------------------------------------------------------\u001b[0m",
      "\u001b[1;31mValueError\u001b[0m                                Traceback (most recent call last)",
      "\u001b[1;32m<ipython-input-53-2c9eb157aec4>\u001b[0m in \u001b[0;36m<module>\u001b[1;34m\u001b[0m\n\u001b[1;32m----> 1\u001b[1;33m \u001b[0mb2\u001b[0m \u001b[1;33m=\u001b[0m \u001b[0mnp\u001b[0m\u001b[1;33m.\u001b[0m\u001b[0mappend\u001b[0m\u001b[1;33m(\u001b[0m\u001b[0mb\u001b[0m\u001b[1;33m,\u001b[0m \u001b[1;33m[\u001b[0m\u001b[1;36m7\u001b[0m\u001b[1;33m,\u001b[0m \u001b[1;36m8\u001b[0m\u001b[1;33m,\u001b[0m \u001b[1;36m9\u001b[0m\u001b[1;33m]\u001b[0m\u001b[1;33m,\u001b[0m \u001b[0maxis\u001b[0m\u001b[1;33m=\u001b[0m\u001b[1;36m0\u001b[0m\u001b[1;33m)\u001b[0m\u001b[1;33m;\u001b[0m \u001b[0mb2\u001b[0m\u001b[1;33m\u001b[0m\u001b[1;33m\u001b[0m\u001b[0m\n\u001b[0m",
      "\u001b[1;32m<__array_function__ internals>\u001b[0m in \u001b[0;36mappend\u001b[1;34m(*args, **kwargs)\u001b[0m\n",
      "\u001b[1;32mC:\\ProgramData\\Anaconda3\\lib\\site-packages\\numpy\\lib\\function_base.py\u001b[0m in \u001b[0;36mappend\u001b[1;34m(arr, values, axis)\u001b[0m\n\u001b[0;32m   4669\u001b[0m         \u001b[0mvalues\u001b[0m \u001b[1;33m=\u001b[0m \u001b[0mravel\u001b[0m\u001b[1;33m(\u001b[0m\u001b[0mvalues\u001b[0m\u001b[1;33m)\u001b[0m\u001b[1;33m\u001b[0m\u001b[1;33m\u001b[0m\u001b[0m\n\u001b[0;32m   4670\u001b[0m         \u001b[0maxis\u001b[0m \u001b[1;33m=\u001b[0m \u001b[0marr\u001b[0m\u001b[1;33m.\u001b[0m\u001b[0mndim\u001b[0m\u001b[1;33m-\u001b[0m\u001b[1;36m1\u001b[0m\u001b[1;33m\u001b[0m\u001b[1;33m\u001b[0m\u001b[0m\n\u001b[1;32m-> 4671\u001b[1;33m     \u001b[1;32mreturn\u001b[0m \u001b[0mconcatenate\u001b[0m\u001b[1;33m(\u001b[0m\u001b[1;33m(\u001b[0m\u001b[0marr\u001b[0m\u001b[1;33m,\u001b[0m \u001b[0mvalues\u001b[0m\u001b[1;33m)\u001b[0m\u001b[1;33m,\u001b[0m \u001b[0maxis\u001b[0m\u001b[1;33m=\u001b[0m\u001b[0maxis\u001b[0m\u001b[1;33m)\u001b[0m\u001b[1;33m\u001b[0m\u001b[1;33m\u001b[0m\u001b[0m\n\u001b[0m\u001b[0;32m   4672\u001b[0m \u001b[1;33m\u001b[0m\u001b[0m\n\u001b[0;32m   4673\u001b[0m \u001b[1;33m\u001b[0m\u001b[0m\n",
      "\u001b[1;32m<__array_function__ internals>\u001b[0m in \u001b[0;36mconcatenate\u001b[1;34m(*args, **kwargs)\u001b[0m\n",
      "\u001b[1;31mValueError\u001b[0m: all the input arrays must have same number of dimensions, but the array at index 0 has 2 dimension(s) and the array at index 1 has 1 dimension(s)"
     ]
    }
   ],
   "source": [
    "b2 = np.append(b, [7, 8, 9], axis=0); b2"
   ]
  },
  {
   "cell_type": "code",
   "execution_count": 54,
   "id": "058394d7",
   "metadata": {},
   "outputs": [
    {
     "data": {
      "text/plain": [
       "array([[1, 2, 3],\n",
       "       [4, 5, 6],\n",
       "       [7, 8, 9]])"
      ]
     },
     "execution_count": 54,
     "metadata": {},
     "output_type": "execute_result"
    }
   ],
   "source": [
    "b2 = np.append(b,[[7, 8,9]], axis=0); b2"
   ]
  },
  {
   "cell_type": "code",
   "execution_count": null,
   "id": "0870d928",
   "metadata": {},
   "outputs": [],
   "source": [
    "'''\n",
    "# 기타\n",
    "'''"
   ]
  },
  {
   "cell_type": "code",
   "execution_count": 55,
   "id": "661a5c6c",
   "metadata": {},
   "outputs": [
    {
     "data": {
      "text/plain": [
       "array([[0, 1],\n",
       "       [2, 3]])"
      ]
     },
     "execution_count": 55,
     "metadata": {},
     "output_type": "execute_result"
    }
   ],
   "source": [
    "# resize\n",
    "x = np.array([[0, 1], [2, 3]]); x"
   ]
  },
  {
   "cell_type": "code",
   "execution_count": 56,
   "id": "afa89686",
   "metadata": {},
   "outputs": [
    {
     "data": {
      "text/plain": [
       "array([[0, 1, 2],\n",
       "       [3, 0, 1]])"
      ]
     },
     "execution_count": 56,
     "metadata": {},
     "output_type": "execute_result"
    }
   ],
   "source": [
    "# 2행 3열로 재배치\n",
    "x1 = np.resize(x, (2, 3)); x1"
   ]
  },
  {
   "cell_type": "code",
   "execution_count": 57,
   "id": "488f598d",
   "metadata": {},
   "outputs": [
    {
     "data": {
      "text/plain": [
       "array([[0, 1, 2, 3],\n",
       "       [0, 1, 2, 3]])"
      ]
     },
     "execution_count": 57,
     "metadata": {},
     "output_type": "execute_result"
    }
   ],
   "source": [
    "# 2행 4열로 재배치\n",
    "x2 = np.resize(x, (2, 4)); x2"
   ]
  },
  {
   "cell_type": "code",
   "execution_count": 58,
   "id": "365557c7",
   "metadata": {},
   "outputs": [
    {
     "data": {
      "text/plain": [
       "array([0, 0, 0, 1, 2, 3, 0, 1, 2, 0, 0])"
      ]
     },
     "execution_count": 58,
     "metadata": {},
     "output_type": "execute_result"
    }
   ],
   "source": [
    "# trim_zeros : 0 제거\n",
    "x = np.array([0, 0, 0, 1, 2, 3, 0, 1, 2, 0, 0]); x"
   ]
  },
  {
   "cell_type": "code",
   "execution_count": 59,
   "id": "526ed3b7",
   "metadata": {},
   "outputs": [
    {
     "data": {
      "text/plain": [
       "array([1, 2, 3, 0, 1, 2])"
      ]
     },
     "execution_count": 59,
     "metadata": {},
     "output_type": "execute_result"
    }
   ],
   "source": [
    "x1 = np.trim_zeros(x); x1      # default : 좌우에 연속된 0을 제거"
   ]
  },
  {
   "cell_type": "code",
   "execution_count": 60,
   "id": "4a32a502",
   "metadata": {},
   "outputs": [
    {
     "data": {
      "text/plain": [
       "array([1, 2, 3, 0, 1, 2, 0, 0])"
      ]
     },
     "execution_count": 60,
     "metadata": {},
     "output_type": "execute_result"
    }
   ],
   "source": [
    "x2 = np.trim_zeros(x, 'f')    # f : front   / 'b' : back\n",
    "x2"
   ]
  },
  {
   "cell_type": "code",
   "execution_count": 61,
   "id": "a9ca6e96",
   "metadata": {},
   "outputs": [
    {
     "data": {
      "text/plain": [
       "array([1, 1, 2, 1, 2, 2, 3, 3, 3])"
      ]
     },
     "execution_count": 61,
     "metadata": {},
     "output_type": "execute_result"
    }
   ],
   "source": [
    "# unique\n",
    "x = np.array([1, 1, 2, 1, 2, 2, 3, 3, 3]); x"
   ]
  },
  {
   "cell_type": "code",
   "execution_count": 62,
   "id": "ff3db499",
   "metadata": {},
   "outputs": [
    {
     "data": {
      "text/plain": [
       "array([1, 2, 3])"
      ]
     },
     "execution_count": 62,
     "metadata": {},
     "output_type": "execute_result"
    }
   ],
   "source": [
    "x1 = np.unique(x); x1"
   ]
  },
  {
   "cell_type": "code",
   "execution_count": 64,
   "id": "7d6e7cce",
   "metadata": {},
   "outputs": [
    {
     "data": {
      "text/plain": [
       "array([[1, 1],\n",
       "       [2, 3]])"
      ]
     },
     "execution_count": 64,
     "metadata": {},
     "output_type": "execute_result"
    }
   ],
   "source": [
    "x = np.array([[1, 1], [2, 3]]); x"
   ]
  },
  {
   "cell_type": "code",
   "execution_count": 65,
   "id": "b612bdd9",
   "metadata": {},
   "outputs": [
    {
     "data": {
      "text/plain": [
       "array([1, 2, 3])"
      ]
     },
     "execution_count": 65,
     "metadata": {},
     "output_type": "execute_result"
    }
   ],
   "source": [
    "x1 = np.unique(x); x1"
   ]
  },
  {
   "cell_type": "code",
   "execution_count": 66,
   "id": "3c14c46d",
   "metadata": {},
   "outputs": [
    {
     "data": {
      "text/plain": [
       "array([[1, 0, 0],\n",
       "       [1, 0, 0],\n",
       "       [2, 3, 4]])"
      ]
     },
     "execution_count": 66,
     "metadata": {},
     "output_type": "execute_result"
    }
   ],
   "source": [
    "x = np.array([[1, 0, 0], [1, 0, 0], [2, 3, 4]]); x"
   ]
  },
  {
   "cell_type": "code",
   "execution_count": 67,
   "id": "5a6a2dac",
   "metadata": {},
   "outputs": [
    {
     "data": {
      "text/plain": [
       "array([0, 1, 2, 3, 4])"
      ]
     },
     "execution_count": 67,
     "metadata": {},
     "output_type": "execute_result"
    }
   ],
   "source": [
    "x2 = np.unique(x); x2"
   ]
  },
  {
   "cell_type": "code",
   "execution_count": 68,
   "id": "9b7e1bbe",
   "metadata": {},
   "outputs": [
    {
     "data": {
      "text/plain": [
       "array([[1, 0, 0],\n",
       "       [2, 3, 4]])"
      ]
     },
     "execution_count": 68,
     "metadata": {},
     "output_type": "execute_result"
    }
   ],
   "source": [
    "x3 = np.unique(x, axis=0); x3 "
   ]
  },
  {
   "cell_type": "code",
   "execution_count": null,
   "id": "bab1c099",
   "metadata": {},
   "outputs": [],
   "source": [
    "# 데이터 카운팅 : unique (return_counts)"
   ]
  },
  {
   "cell_type": "code",
   "execution_count": 2,
   "id": "738eebab",
   "metadata": {},
   "outputs": [
    {
     "data": {
      "text/plain": [
       "array([1, 2, 3])"
      ]
     },
     "execution_count": 2,
     "metadata": {},
     "output_type": "execute_result"
    }
   ],
   "source": [
    "x4 = np.unique([1, 1, 2, 2, 3, 3]); x4"
   ]
  },
  {
   "cell_type": "code",
   "execution_count": 3,
   "id": "f95c263e",
   "metadata": {},
   "outputs": [
    {
     "data": {
      "text/plain": [
       "(array([1, 2, 3]), array([2, 3, 2], dtype=int64))"
      ]
     },
     "execution_count": 3,
     "metadata": {},
     "output_type": "execute_result"
    }
   ],
   "source": [
    "x5 = np.array([1, 1, 2, 2, 2, 3, 3])\n",
    "x6 = np.unique(x5, return_counts=True); x6"
   ]
  },
  {
   "cell_type": "code",
   "execution_count": 4,
   "id": "29ffcb5b",
   "metadata": {},
   "outputs": [
    {
     "name": "stdout",
     "output_type": "stream",
     "text": [
      "[1 2 3]\n",
      "[2 3 2]\n"
     ]
    }
   ],
   "source": [
    "data, count = x6\n",
    "print(data)\n",
    "print(count)"
   ]
  },
  {
   "cell_type": "code",
   "execution_count": 5,
   "id": "fd906b0c",
   "metadata": {},
   "outputs": [
    {
     "data": {
      "text/plain": [
       "(array(['a', 'b', 'c', 'd'], dtype='<U1'), array([2, 2, 1, 1], dtype=int64))"
      ]
     },
     "execution_count": 5,
     "metadata": {},
     "output_type": "execute_result"
    }
   ],
   "source": [
    "x7 = np.array(['a', 'b', 'b', 'c', 'a', 'd'])\n",
    "x8 = np.unique(x7, return_counts=True); x8"
   ]
  },
  {
   "cell_type": "code",
   "execution_count": 6,
   "id": "4723dada",
   "metadata": {},
   "outputs": [
    {
     "name": "stdout",
     "output_type": "stream",
     "text": [
      "['a' 'b' 'c' 'd'] [2 2 1 1]\n"
     ]
    }
   ],
   "source": [
    "data, count = x8\n",
    "print(data, count)"
   ]
  },
  {
   "cell_type": "code",
   "execution_count": null,
   "id": "7605c914",
   "metadata": {},
   "outputs": [],
   "source": [
    "# bincount\n",
    "# 주사위 : 나올 수 있는 숫자 1~6\n",
    "# unique : 주사위를 던졌을 때 나온 숫자만 카운트\n",
    "# bincount : 나오지 않은 숫자(나올 수 있는 숫자) 는 숫자 카운트를 0으로 한다"
   ]
  },
  {
   "cell_type": "code",
   "execution_count": 7,
   "id": "0b5743ac",
   "metadata": {},
   "outputs": [
    {
     "data": {
      "text/plain": [
       "array([0, 2, 2, 1, 1, 0], dtype=int64)"
      ]
     },
     "execution_count": 7,
     "metadata": {},
     "output_type": "execute_result"
    }
   ],
   "source": [
    "cnt = np.bincount([1, 1, 2, 2, 3, 4], minlength=6)\n",
    "cnt"
   ]
  },
  {
   "cell_type": "code",
   "execution_count": null,
   "id": "2db78c12",
   "metadata": {},
   "outputs": [],
   "source": []
  },
  {
   "cell_type": "code",
   "execution_count": null,
   "id": "e030ccd5",
   "metadata": {},
   "outputs": [],
   "source": [
    "# flip : 재정렬 (원본데이터, axis)"
   ]
  },
  {
   "cell_type": "code",
   "execution_count": 69,
   "id": "12b102da",
   "metadata": {},
   "outputs": [
    {
     "data": {
      "text/plain": [
       "array([[[0, 1],\n",
       "        [2, 3]],\n",
       "\n",
       "       [[4, 5],\n",
       "        [6, 7]]])"
      ]
     },
     "execution_count": 69,
     "metadata": {},
     "output_type": "execute_result"
    }
   ],
   "source": [
    "x = np.arange(8).reshape((2, 2, 2)); x"
   ]
  },
  {
   "cell_type": "code",
   "execution_count": 70,
   "id": "58979a83",
   "metadata": {},
   "outputs": [
    {
     "data": {
      "text/plain": [
       "array([[[4, 5],\n",
       "        [6, 7]],\n",
       "\n",
       "       [[0, 1],\n",
       "        [2, 3]]])"
      ]
     },
     "execution_count": 70,
     "metadata": {},
     "output_type": "execute_result"
    }
   ],
   "source": [
    "x1 = np.flip(x, 0); x1      # 차원 기준"
   ]
  },
  {
   "cell_type": "code",
   "execution_count": 71,
   "id": "dc337956",
   "metadata": {},
   "outputs": [
    {
     "data": {
      "text/plain": [
       "array([[[2, 3],\n",
       "        [0, 1]],\n",
       "\n",
       "       [[6, 7],\n",
       "        [4, 5]]])"
      ]
     },
     "execution_count": 71,
     "metadata": {},
     "output_type": "execute_result"
    }
   ],
   "source": [
    "x2 = np.flip(x, 1); x2     # 행 기준"
   ]
  },
  {
   "cell_type": "code",
   "execution_count": 72,
   "id": "afa9dcc5",
   "metadata": {},
   "outputs": [
    {
     "data": {
      "text/plain": [
       "array([[[1, 0],\n",
       "        [3, 2]],\n",
       "\n",
       "       [[5, 4],\n",
       "        [7, 6]]])"
      ]
     },
     "execution_count": 72,
     "metadata": {},
     "output_type": "execute_result"
    }
   ],
   "source": [
    "x3 = np.flip(x, 2); x3      # 열 기준"
   ]
  },
  {
   "cell_type": "code",
   "execution_count": null,
   "id": "a2d68c1b",
   "metadata": {},
   "outputs": [],
   "source": [
    "# fliplr"
   ]
  },
  {
   "cell_type": "code",
   "execution_count": 73,
   "id": "cf649564",
   "metadata": {},
   "outputs": [
    {
     "data": {
      "text/plain": [
       "array([[1, 0, 0],\n",
       "       [0, 2, 0],\n",
       "       [0, 0, 3]])"
      ]
     },
     "execution_count": 73,
     "metadata": {},
     "output_type": "execute_result"
    }
   ],
   "source": [
    "x = np.diag([1, 2, 3]); x"
   ]
  },
  {
   "cell_type": "code",
   "execution_count": 74,
   "id": "491a7aed",
   "metadata": {},
   "outputs": [
    {
     "data": {
      "text/plain": [
       "array([[0, 0, 1],\n",
       "       [0, 2, 0],\n",
       "       [3, 0, 0]])"
      ]
     },
     "execution_count": 74,
     "metadata": {},
     "output_type": "execute_result"
    }
   ],
   "source": [
    "x1 = np.fliplr(x); x1"
   ]
  },
  {
   "cell_type": "code",
   "execution_count": 75,
   "id": "fd03fa8e",
   "metadata": {},
   "outputs": [
    {
     "data": {
      "text/plain": [
       "array([[0, 1, 2],\n",
       "       [3, 4, 5],\n",
       "       [6, 7, 8]])"
      ]
     },
     "execution_count": 75,
     "metadata": {},
     "output_type": "execute_result"
    }
   ],
   "source": [
    "# cf) diag - \n",
    "d = np.arange(9).reshape((3, 3)); d"
   ]
  },
  {
   "cell_type": "code",
   "execution_count": 76,
   "id": "004b1541",
   "metadata": {},
   "outputs": [
    {
     "data": {
      "text/plain": [
       "array([0, 4, 8])"
      ]
     },
     "execution_count": 76,
     "metadata": {},
     "output_type": "execute_result"
    }
   ],
   "source": [
    "np.diag(d)      # default : (0, 0)"
   ]
  },
  {
   "cell_type": "code",
   "execution_count": 77,
   "id": "2e1b17be",
   "metadata": {},
   "outputs": [
    {
     "data": {
      "text/plain": [
       "array([1, 5])"
      ]
     },
     "execution_count": 77,
     "metadata": {},
     "output_type": "execute_result"
    }
   ],
   "source": [
    "np.diag(d, k=1)    # k : 대각선 시작점"
   ]
  },
  {
   "cell_type": "code",
   "execution_count": 78,
   "id": "aec2e885",
   "metadata": {},
   "outputs": [
    {
     "data": {
      "text/plain": [
       "array([3, 7])"
      ]
     },
     "execution_count": 78,
     "metadata": {},
     "output_type": "execute_result"
    }
   ],
   "source": [
    "np.diag(d, k=-1)"
   ]
  },
  {
   "cell_type": "code",
   "execution_count": null,
   "id": "7269624d",
   "metadata": {},
   "outputs": [],
   "source": [
    "# flipud "
   ]
  },
  {
   "cell_type": "code",
   "execution_count": 79,
   "id": "0dfaa4ac",
   "metadata": {},
   "outputs": [
    {
     "data": {
      "text/plain": [
       "array([[1, 0, 0],\n",
       "       [0, 2, 0],\n",
       "       [0, 0, 3]])"
      ]
     },
     "execution_count": 79,
     "metadata": {},
     "output_type": "execute_result"
    }
   ],
   "source": [
    "x = np.diag([1, 2, 3]); x"
   ]
  },
  {
   "cell_type": "code",
   "execution_count": 80,
   "id": "5634dbc7",
   "metadata": {},
   "outputs": [
    {
     "data": {
      "text/plain": [
       "array([[0, 0, 3],\n",
       "       [0, 2, 0],\n",
       "       [1, 0, 0]])"
      ]
     },
     "execution_count": 80,
     "metadata": {},
     "output_type": "execute_result"
    }
   ],
   "source": [
    "x1 = np.flipud(x); x1"
   ]
  },
  {
   "cell_type": "code",
   "execution_count": null,
   "id": "99353959",
   "metadata": {},
   "outputs": [],
   "source": [
    "# rot90 : 90도만큼 배열 요소 회전 (k : 90도를 몇번 회전, axes : (가로,세로))"
   ]
  },
  {
   "cell_type": "code",
   "execution_count": 81,
   "id": "fae6063c",
   "metadata": {},
   "outputs": [
    {
     "data": {
      "text/plain": [
       "array([[1, 2],\n",
       "       [3, 4]])"
      ]
     },
     "execution_count": 81,
     "metadata": {},
     "output_type": "execute_result"
    }
   ],
   "source": [
    "r = np.array([[1, 2], [3, 4]]); r"
   ]
  },
  {
   "cell_type": "code",
   "execution_count": 82,
   "id": "cce17629",
   "metadata": {},
   "outputs": [
    {
     "data": {
      "text/plain": [
       "array([[2, 4],\n",
       "       [1, 3]])"
      ]
     },
     "execution_count": 82,
     "metadata": {},
     "output_type": "execute_result"
    }
   ],
   "source": [
    "r1 = np.rot90(r, 1); r1  # 회전방향 : 반시계 방향"
   ]
  },
  {
   "cell_type": "code",
   "execution_count": 83,
   "id": "64b43a1c",
   "metadata": {},
   "outputs": [
    {
     "data": {
      "text/plain": [
       "array([[2, 4],\n",
       "       [1, 3]])"
      ]
     },
     "execution_count": 83,
     "metadata": {},
     "output_type": "execute_result"
    }
   ],
   "source": [
    "r2 = np.rot90(r); r2"
   ]
  },
  {
   "cell_type": "code",
   "execution_count": 84,
   "id": "1c57fbb5",
   "metadata": {},
   "outputs": [
    {
     "data": {
      "text/plain": [
       "array([[3, 1],\n",
       "       [4, 2]])"
      ]
     },
     "execution_count": 84,
     "metadata": {},
     "output_type": "execute_result"
    }
   ],
   "source": [
    "r3 = np.rot90(r, 1, (1, 0)); r3        # 시계방향"
   ]
  },
  {
   "cell_type": "code",
   "execution_count": 85,
   "id": "ea117a62",
   "metadata": {},
   "outputs": [
    {
     "data": {
      "text/plain": [
       "array([[4, 3],\n",
       "       [2, 1]])"
      ]
     },
     "execution_count": 85,
     "metadata": {},
     "output_type": "execute_result"
    }
   ],
   "source": [
    "r4 = np.rot90(r, 2, (1, 0)); r4       # 시계방향, 180도 회전"
   ]
  },
  {
   "cell_type": "code",
   "execution_count": 86,
   "id": "318c83b6",
   "metadata": {},
   "outputs": [
    {
     "data": {
      "text/plain": [
       "array([[3, 1],\n",
       "       [4, 2]])"
      ]
     },
     "execution_count": 86,
     "metadata": {},
     "output_type": "execute_result"
    }
   ],
   "source": [
    "r5 = np.rot90(r, -1, (0, 1)); r5"
   ]
  },
  {
   "cell_type": "code",
   "execution_count": null,
   "id": "1320fbc0",
   "metadata": {},
   "outputs": [],
   "source": []
  },
  {
   "cell_type": "code",
   "execution_count": null,
   "id": "a43103e4",
   "metadata": {},
   "outputs": [],
   "source": []
  },
  {
   "cell_type": "code",
   "execution_count": null,
   "id": "9eea166a",
   "metadata": {},
   "outputs": [],
   "source": []
  },
  {
   "cell_type": "code",
   "execution_count": null,
   "id": "8bce7938",
   "metadata": {},
   "outputs": [],
   "source": []
  }
 ],
 "metadata": {
  "kernelspec": {
   "display_name": "Python 3",
   "language": "python",
   "name": "python3"
  },
  "language_info": {
   "codemirror_mode": {
    "name": "ipython",
    "version": 3
   },
   "file_extension": ".py",
   "mimetype": "text/x-python",
   "name": "python",
   "nbconvert_exporter": "python",
   "pygments_lexer": "ipython3",
   "version": "3.8.8"
  }
 },
 "nbformat": 4,
 "nbformat_minor": 5
}
