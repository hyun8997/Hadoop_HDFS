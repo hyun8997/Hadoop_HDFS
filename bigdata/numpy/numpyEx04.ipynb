{
 "cells": [
  {
   "cell_type": "markdown",
   "id": "b9603ad5",
   "metadata": {},
   "source": [
    "# 난수(random number)"
   ]
  },
  {
   "cell_type": "code",
   "execution_count": null,
   "id": "48cbd19e",
   "metadata": {},
   "outputs": [],
   "source": [
    "'''\n",
    "# 난수 발생 : np.rand() - 0부터 1사이의 실수\n",
    "# seed(씨앗값) : 보통 프로그래밍 언어는 난수값이 보통 설정되어있음\n",
    "              : 조금 더 난수를 만들고 싶으면 씨앗값을 바꾸는 형태로 사용\n",
    "\n",
    "'''"
   ]
  },
  {
   "cell_type": "code",
   "execution_count": 1,
   "id": "e30a1a31",
   "metadata": {},
   "outputs": [],
   "source": [
    "import numpy as np"
   ]
  },
  {
   "cell_type": "code",
   "execution_count": 2,
   "id": "4bdd2d26",
   "metadata": {},
   "outputs": [
    {
     "data": {
      "text/plain": [
       "array([0.5488135 , 0.71518937, 0.60276338, 0.54488318, 0.4236548 ])"
      ]
     },
     "execution_count": 2,
     "metadata": {},
     "output_type": "execute_result"
    }
   ],
   "source": [
    "np.random.seed(0)\n",
    "np.random.rand(5)"
   ]
  },
  {
   "cell_type": "code",
   "execution_count": 3,
   "id": "65b1f838",
   "metadata": {},
   "outputs": [
    {
     "data": {
      "text/plain": [
       "array([0.64589411, 0.43758721, 0.891773  , 0.96366276, 0.38344152])"
      ]
     },
     "execution_count": 3,
     "metadata": {},
     "output_type": "execute_result"
    }
   ],
   "source": [
    "np.random.rand(5)"
   ]
  },
  {
   "cell_type": "code",
   "execution_count": 4,
   "id": "2855c7d0",
   "metadata": {},
   "outputs": [
    {
     "data": {
      "text/plain": [
       "array([0.5488135 , 0.71518937, 0.60276338, 0.54488318, 0.4236548 ])"
      ]
     },
     "execution_count": 4,
     "metadata": {},
     "output_type": "execute_result"
    }
   ],
   "source": [
    "np.random.seed(0)\n",
    "np.random.rand(5)"
   ]
  },
  {
   "cell_type": "code",
   "execution_count": 5,
   "id": "c1b66ea0",
   "metadata": {},
   "outputs": [
    {
     "data": {
      "text/plain": [
       "array([0.4359949 , 0.02592623, 0.54966248, 0.43532239, 0.4203678 ])"
      ]
     },
     "execution_count": 5,
     "metadata": {},
     "output_type": "execute_result"
    }
   ],
   "source": [
    "np.random.seed(2)    # 시드를 바꾸면 그때그때 다른 난수 가능\n",
    "np.random.rand(5)"
   ]
  },
  {
   "cell_type": "code",
   "execution_count": 9,
   "id": "0e0f7257",
   "metadata": {},
   "outputs": [
    {
     "name": "stdout",
     "output_type": "stream",
     "text": [
      "0.22601200060423587\n",
      "0.10694568430998297\n",
      "0.2203062070705597\n",
      "0.34982628500329926\n",
      "0.46778748458230024\n",
      "0.20174322626496533\n",
      "0.6404067252149148\n",
      "0.48306983555175165\n",
      "0.5052367200185491\n",
      "0.3868926511185593\n"
     ]
    }
   ],
   "source": [
    "for i in range(10):\n",
    "    print(np.random.rand())"
   ]
  },
  {
   "cell_type": "code",
   "execution_count": 10,
   "id": "3e3ed72f",
   "metadata": {},
   "outputs": [
    {
     "data": {
      "text/plain": [
       "array([0.79363745, 0.58000418, 0.1622986 , 0.70075235, 0.96455108,\n",
       "       0.50000836, 0.88952006, 0.34161365, 0.56714413, 0.42754596])"
      ]
     },
     "execution_count": 10,
     "metadata": {},
     "output_type": "execute_result"
    }
   ],
   "source": [
    "np.random.rand(10)"
   ]
  },
  {
   "cell_type": "code",
   "execution_count": 11,
   "id": "b312bf5d",
   "metadata": {},
   "outputs": [
    {
     "name": "stdout",
     "output_type": "stream",
     "text": [
      "[0 1 2 3 4 5 6 7 8 9]\n",
      "----------------------\n",
      "[7 6 9 0 3 5 1 4 2 8]\n"
     ]
    }
   ],
   "source": [
    "# shuffle\n",
    "x = np.arange(10)\n",
    "print(x)\n",
    "print('----------------------')\n",
    "np.random.shuffle(x)\n",
    "print(x)"
   ]
  },
  {
   "cell_type": "code",
   "execution_count": null,
   "id": "f9933d27",
   "metadata": {},
   "outputs": [],
   "source": [
    "'''\n",
    "# 데이터 샘플링 : 이미 있는 데이터 집합에서 무작위로 선택하는 것 (sampling)\n",
    "# np.random.choice (원본데이터, size, replace=True/False, p)\n",
    "\n",
    "- 원본 데이터 : (range(원본데이터))\n",
    "- size : 샘플 숫자\n",
    "- replace : True이면 한 번 선택한 데이터를 다시 선택할 수 있음\n",
    "- p : 각 데이터가 선택될 수 있는 확률\n",
    "'''"
   ]
  },
  {
   "cell_type": "code",
   "execution_count": 12,
   "id": "f4dd8870",
   "metadata": {},
   "outputs": [
    {
     "data": {
      "text/plain": [
       "array([3, 2, 1, 0, 4])"
      ]
     },
     "execution_count": 12,
     "metadata": {},
     "output_type": "execute_result"
    }
   ],
   "source": [
    "x = np.random.choice(5, 5, replace=False); x"
   ]
  },
  {
   "cell_type": "code",
   "execution_count": 13,
   "id": "c9b7b652",
   "metadata": {},
   "outputs": [
    {
     "data": {
      "text/plain": [
       "array([0, 2, 3])"
      ]
     },
     "execution_count": 13,
     "metadata": {},
     "output_type": "execute_result"
    }
   ],
   "source": [
    "x1 = np.random.choice(5, 3, replace=False); x1"
   ]
  },
  {
   "cell_type": "code",
   "execution_count": 14,
   "id": "1d724677",
   "metadata": {},
   "outputs": [
    {
     "ename": "ValueError",
     "evalue": "Cannot take a larger sample than population when 'replace=False'",
     "output_type": "error",
     "traceback": [
      "\u001b[1;31m---------------------------------------------------------------------------\u001b[0m",
      "\u001b[1;31mValueError\u001b[0m                                Traceback (most recent call last)",
      "\u001b[1;32m<ipython-input-14-b58dd7438e03>\u001b[0m in \u001b[0;36m<module>\u001b[1;34m\u001b[0m\n\u001b[1;32m----> 1\u001b[1;33m \u001b[0mx2\u001b[0m \u001b[1;33m=\u001b[0m \u001b[0mnp\u001b[0m\u001b[1;33m.\u001b[0m\u001b[0mrandom\u001b[0m\u001b[1;33m.\u001b[0m\u001b[0mchoice\u001b[0m\u001b[1;33m(\u001b[0m\u001b[1;36m5\u001b[0m\u001b[1;33m,\u001b[0m \u001b[1;36m10\u001b[0m\u001b[1;33m,\u001b[0m \u001b[0mreplace\u001b[0m\u001b[1;33m=\u001b[0m\u001b[1;32mFalse\u001b[0m\u001b[1;33m)\u001b[0m\u001b[1;33m;\u001b[0m \u001b[0mx2\u001b[0m\u001b[1;33m\u001b[0m\u001b[1;33m\u001b[0m\u001b[0m\n\u001b[0m",
      "\u001b[1;32mmtrand.pyx\u001b[0m in \u001b[0;36mnumpy.random.mtrand.RandomState.choice\u001b[1;34m()\u001b[0m\n",
      "\u001b[1;31mValueError\u001b[0m: Cannot take a larger sample than population when 'replace=False'"
     ]
    }
   ],
   "source": [
    "x2 = np.random.choice(5, 10, replace=False); x2"
   ]
  },
  {
   "cell_type": "code",
   "execution_count": 15,
   "id": "bd5be736",
   "metadata": {},
   "outputs": [
    {
     "data": {
      "text/plain": [
       "array([2, 4, 2, 3, 4, 2, 0, 2, 3, 3])"
      ]
     },
     "execution_count": 15,
     "metadata": {},
     "output_type": "execute_result"
    }
   ],
   "source": [
    "x2 = np.random.choice(5, 10, replace=True); x2      # 재사용을 하면 원본데이터보다 더 많은 값 추출 가능"
   ]
  },
  {
   "cell_type": "code",
   "execution_count": 16,
   "id": "2f924541",
   "metadata": {},
   "outputs": [
    {
     "data": {
      "text/plain": [
       "array([4, 4, 3, 4, 4, 4, 4, 4, 4, 4])"
      ]
     },
     "execution_count": 16,
     "metadata": {},
     "output_type": "execute_result"
    }
   ],
   "source": [
    "x3 = np.random.choice(5, 10, replace=True, p=[0.1, 0, 0, 0.3, 0.6]); x3  # 요소별 선택 확률도 부여"
   ]
  },
  {
   "cell_type": "code",
   "execution_count": null,
   "id": "2e8d2e30",
   "metadata": {},
   "outputs": [],
   "source": [
    "'''\n",
    "# rand() : 0~1 실수 균일 분포\n",
    "# randn() : 실수 가우시안 표준 정규 분포\n",
    "# randint() : 균일분포 정수 - 난수\n",
    " - randint(low, high, size)\n",
    "  -- size : 난수의 갯수\n",
    "\n",
    "'''"
   ]
  },
  {
   "cell_type": "code",
   "execution_count": 17,
   "id": "3794db27",
   "metadata": {},
   "outputs": [
    {
     "data": {
      "text/plain": [
       "array([0.39393329, 0.92654675, 0.00554442, 0.7284985 , 0.35575363])"
      ]
     },
     "execution_count": 17,
     "metadata": {},
     "output_type": "execute_result"
    }
   ],
   "source": [
    "np.random.rand(5)"
   ]
  },
  {
   "cell_type": "code",
   "execution_count": 18,
   "id": "1dbf3c62",
   "metadata": {},
   "outputs": [
    {
     "data": {
      "text/plain": [
       "array([[0.21293324, 0.36202741, 0.87830029, 0.36332589, 0.50320692],\n",
       "       [0.76748826, 0.91447557, 0.82636801, 0.41174644, 0.63084266],\n",
       "       [0.3419116 , 0.38169294, 0.96245957, 0.64701423, 0.95784567]])"
      ]
     },
     "execution_count": 18,
     "metadata": {},
     "output_type": "execute_result"
    }
   ],
   "source": [
    "np.random.rand(3, 5)"
   ]
  },
  {
   "cell_type": "code",
   "execution_count": 22,
   "id": "09da745b",
   "metadata": {},
   "outputs": [
    {
     "data": {
      "text/plain": [
       "array([ 0.15550392,  1.48506087, -0.3951954 ,  0.65063129,  0.01786335,\n",
       "       -1.17113099, -0.95819534, -0.46706884,  0.55772101, -0.46522933])"
      ]
     },
     "execution_count": 22,
     "metadata": {},
     "output_type": "execute_result"
    }
   ],
   "source": [
    "np.random.randn(10)"
   ]
  },
  {
   "cell_type": "code",
   "execution_count": 23,
   "id": "a679cbe5",
   "metadata": {},
   "outputs": [
    {
     "data": {
      "text/plain": [
       "array([47, 35, 46, 25, 31])"
      ]
     },
     "execution_count": 23,
     "metadata": {},
     "output_type": "execute_result"
    }
   ],
   "source": [
    "np.random.randint(10, 50, 5)"
   ]
  },
  {
   "cell_type": "code",
   "execution_count": 31,
   "id": "3eaf5487",
   "metadata": {},
   "outputs": [
    {
     "data": {
      "text/plain": [
       "array([22, 42, 37, 42, 41, 20])"
      ]
     },
     "execution_count": 31,
     "metadata": {},
     "output_type": "execute_result"
    }
   ],
   "source": [
    "# 로또 번호 6개 구해보세요\n",
    "np.random.randint(1, 46, 6)"
   ]
  },
  {
   "cell_type": "code",
   "execution_count": 33,
   "id": "90fde0ec",
   "metadata": {},
   "outputs": [
    {
     "data": {
      "text/plain": [
       "array([[28, 17,  5, 13, 35, 24],\n",
       "       [42, 20, 34, 32, 18, 26],\n",
       "       [10,  1,  9, 11,  9, 38],\n",
       "       [36, 41, 36, 15, 16, 45],\n",
       "       [ 7, 34, 35, 32, 30, 35]])"
      ]
     },
     "execution_count": 33,
     "metadata": {},
     "output_type": "execute_result"
    }
   ],
   "source": [
    "# 로또 5천원어치 구해보세요\n",
    "np.random.randint(1, 46, [5,6])"
   ]
  },
  {
   "cell_type": "code",
   "execution_count": 41,
   "id": "bebb28ba",
   "metadata": {},
   "outputs": [
    {
     "data": {
      "text/plain": [
       "array([[1.11250650e-311, 3.16202013e-322, 0.00000000e+000],\n",
       "       [0.00000000e+000, 0.00000000e+000, 5.88648123e-062],\n",
       "       [7.24893897e+169, 3.60282746e+175, 1.23162090e+165],\n",
       "       [9.59580151e-071, 5.69860862e-038, 4.43046942e+175]])"
      ]
     },
     "execution_count": 41,
     "metadata": {},
     "output_type": "execute_result"
    }
   ],
   "source": [
    "# cf) 큰 값을 선언하지 않고 배열로 만드는 방법\n",
    "np.empty((4, 3))"
   ]
  },
  {
   "cell_type": "markdown",
   "id": "9659d1c0",
   "metadata": {},
   "source": []
  },
  {
   "cell_type": "code",
   "execution_count": null,
   "id": "c4ab8445",
   "metadata": {},
   "outputs": [],
   "source": []
  },
  {
   "cell_type": "code",
   "execution_count": null,
   "id": "b5422092",
   "metadata": {},
   "outputs": [],
   "source": []
  },
  {
   "cell_type": "code",
   "execution_count": null,
   "id": "d8db7e18",
   "metadata": {},
   "outputs": [],
   "source": []
  },
  {
   "cell_type": "code",
   "execution_count": null,
   "id": "a7e7822c",
   "metadata": {},
   "outputs": [],
   "source": []
  },
  {
   "cell_type": "code",
   "execution_count": null,
   "id": "703bf81e",
   "metadata": {},
   "outputs": [],
   "source": []
  },
  {
   "cell_type": "code",
   "execution_count": null,
   "id": "3e328771",
   "metadata": {},
   "outputs": [],
   "source": []
  },
  {
   "cell_type": "code",
   "execution_count": null,
   "id": "261bab6d",
   "metadata": {},
   "outputs": [],
   "source": []
  },
  {
   "cell_type": "code",
   "execution_count": null,
   "id": "cdea7939",
   "metadata": {},
   "outputs": [],
   "source": []
  },
  {
   "cell_type": "code",
   "execution_count": null,
   "id": "da262fb3",
   "metadata": {},
   "outputs": [],
   "source": []
  }
 ],
 "metadata": {
  "kernelspec": {
   "display_name": "Python 3",
   "language": "python",
   "name": "python3"
  },
  "language_info": {
   "codemirror_mode": {
    "name": "ipython",
    "version": 3
   },
   "file_extension": ".py",
   "mimetype": "text/x-python",
   "name": "python",
   "nbconvert_exporter": "python",
   "pygments_lexer": "ipython3",
   "version": "3.8.8"
  }
 },
 "nbformat": 4,
 "nbformat_minor": 5
}
