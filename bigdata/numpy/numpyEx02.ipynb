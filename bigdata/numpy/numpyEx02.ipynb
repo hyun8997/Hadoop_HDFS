{
 "cells": [
  {
   "cell_type": "code",
   "execution_count": null,
   "id": "f41d2614",
   "metadata": {},
   "outputs": [],
   "source": [
    "'''\n",
    "# numpy 데이터 자료형\n",
    "# dtype 속성에 해당 자료형 첫글자를 부여\n",
    " - b : boolean            ex) dtype='b'\n",
    " - i : int (정수형)        ex) dtype = 'i8' (64비트)\n",
    " - u : 부호없는 정수        ex) dtype = 'u8' (64비트)\n",
    " - f : 부동소수점           ex) dtype = 'f8' (64비트)\n",
    " - c : 복소수 부동소수점     ex) dtype = 'c16' (128비트)\n",
    " - O : 객체                 ex) dtype = 'O'  (객체에 대한 포인터)\n",
    " - S : 바이트 문자열          ex) dtype = 'S24'  (24글자)\n",
    " - U : 유니코드 문자열        ex) dtype = 'U24' (24 유니코드 글자)\n",
    " \n",
    " - Inf : 무한대\n",
    " - NaN (Not a Number)\n",
    " - N/A (Not avalible, not applicable)\n",
    "\n",
    "'''"
   ]
  },
  {
   "cell_type": "code",
   "execution_count": 1,
   "id": "9ed69b96",
   "metadata": {},
   "outputs": [],
   "source": [
    "import numpy as np"
   ]
  },
  {
   "cell_type": "code",
   "execution_count": 2,
   "id": "3224a382",
   "metadata": {},
   "outputs": [
    {
     "data": {
      "text/plain": [
       "array([1, 2, 3])"
      ]
     },
     "execution_count": 2,
     "metadata": {},
     "output_type": "execute_result"
    }
   ],
   "source": [
    "# 자료형 지정을 값을 직접 집어넣거나 dtype 속성을 이용해서 지정할 수 있음\n",
    "\n",
    "x = np.array([1, 2, 3])\n",
    "x"
   ]
  },
  {
   "cell_type": "code",
   "execution_count": 3,
   "id": "035a21d7",
   "metadata": {},
   "outputs": [
    {
     "data": {
      "text/plain": [
       "dtype('int32')"
      ]
     },
     "execution_count": 3,
     "metadata": {},
     "output_type": "execute_result"
    }
   ],
   "source": [
    "x.dtype"
   ]
  },
  {
   "cell_type": "code",
   "execution_count": 4,
   "id": "76ef7e15",
   "metadata": {},
   "outputs": [
    {
     "data": {
      "text/plain": [
       "dtype('float64')"
      ]
     },
     "execution_count": 4,
     "metadata": {},
     "output_type": "execute_result"
    }
   ],
   "source": [
    "x = np.array([1, 2, 3.0])\n",
    "x.dtype"
   ]
  },
  {
   "cell_type": "code",
   "execution_count": 5,
   "id": "84544f87",
   "metadata": {},
   "outputs": [
    {
     "data": {
      "text/plain": [
       "dtype('int32')"
      ]
     },
     "execution_count": 5,
     "metadata": {},
     "output_type": "execute_result"
    }
   ],
   "source": [
    "x = np.array([1, 2, 3], dtype='int')\n",
    "x.dtype"
   ]
  },
  {
   "cell_type": "code",
   "execution_count": 6,
   "id": "352d9ed3",
   "metadata": {},
   "outputs": [
    {
     "data": {
      "text/plain": [
       "dtype('float64')"
      ]
     },
     "execution_count": 6,
     "metadata": {},
     "output_type": "execute_result"
    }
   ],
   "source": [
    "x = np.array([1, 2, 3], dtype='float')\n",
    "x.dtype"
   ]
  },
  {
   "cell_type": "code",
   "execution_count": 10,
   "id": "d0100466",
   "metadata": {},
   "outputs": [
    {
     "data": {
      "text/plain": [
       "dtype('float32')"
      ]
     },
     "execution_count": 10,
     "metadata": {},
     "output_type": "execute_result"
    }
   ],
   "source": [
    "y = np.array([1, 2, 3], dtype='f')\n",
    "y.dtype"
   ]
  },
  {
   "cell_type": "code",
   "execution_count": 11,
   "id": "c6aa5116",
   "metadata": {},
   "outputs": [
    {
     "data": {
      "text/plain": [
       "dtype('<U1')"
      ]
     },
     "execution_count": 11,
     "metadata": {},
     "output_type": "execute_result"
    }
   ],
   "source": [
    "x = np.array([1, 2, 3], dtype='U')\n",
    "x.dtype"
   ]
  },
  {
   "cell_type": "code",
   "execution_count": 12,
   "id": "173444a0",
   "metadata": {},
   "outputs": [
    {
     "data": {
      "text/plain": [
       "'12'"
      ]
     },
     "execution_count": 12,
     "metadata": {},
     "output_type": "execute_result"
    }
   ],
   "source": [
    "x[0] + x[1]   # 인덱싱한 값이 유니코드 문자임이 확인"
   ]
  },
  {
   "cell_type": "code",
   "execution_count": 13,
   "id": "b93ec5b1",
   "metadata": {},
   "outputs": [
    {
     "name": "stderr",
     "output_type": "stream",
     "text": [
      "<ipython-input-13-6ab12ec6e7a4>:1: RuntimeWarning: divide by zero encountered in true_divide\n",
      "  np.array([0, 1, -1, 0]) / np.array([1, 0, 0, 0])\n",
      "<ipython-input-13-6ab12ec6e7a4>:1: RuntimeWarning: invalid value encountered in true_divide\n",
      "  np.array([0, 1, -1, 0]) / np.array([1, 0, 0, 0])\n"
     ]
    },
    {
     "data": {
      "text/plain": [
       "array([  0.,  inf, -inf,  nan])"
      ]
     },
     "execution_count": 13,
     "metadata": {},
     "output_type": "execute_result"
    }
   ],
   "source": [
    "np.array([0, 1, -1, 0]) / np.array([1, 0, 0, 0])"
   ]
  },
  {
   "cell_type": "code",
   "execution_count": 20,
   "id": "bc980246",
   "metadata": {
    "collapsed": true
   },
   "outputs": [
    {
     "data": {
      "text/plain": [
       "'\\n# 배열 연결 (concatenate)\\n : 행의 수나, 열의 수가 같은 두 개 이상의 배열을 연결하여 더 큰 배열을 만들 때 사용하는 방법\\n \\n - hstack : 행의 수가 같은 두 개 이상의 배열을 옆으로 연결하여 열의 수가 더 많은 배열을 생성\\n          : 연결할 배열이 하나의 리스트에 담겨있어야 함\\n - vstack : 열의 수가 같은 두 개 이상의 배열을 위아래로 연결하여 행의 수가 더 많은 배열을 생성\\n          : 연결할 배열이 하나의 리스트에 담겨있어야 함\\n\\n'"
      ]
     },
     "execution_count": 20,
     "metadata": {},
     "output_type": "execute_result"
    }
   ],
   "source": [
    "'''\n",
    "# 배열 연결 (concatenate)\n",
    " : 행의 수나, 열의 수가 같은 두 개 이상의 배열을 연결하여 더 큰 배열을 만들 때 사용하는 방법\n",
    " \n",
    " - hstack : 행의 수가 같은 두 개 이상의 배열을 옆으로 연결하여 열의 수가 더 많은 배열을 생성\n",
    "          : 연결할 배열이 하나의 리스트에 담겨있어야 함\n",
    " - vstack : 열의 수가 같은 두 개 이상의 배열을 위아래로 연결하여 행의 수가 더 많은 배열을 생성\n",
    "          : 연결할 배열이 하나의 리스트에 담겨있어야 함\n",
    " - dstack : 깊이(depth) 방향으로 배열을 연결\n",
    " \n",
    " - stack : dstack 확장버전\n",
    "         : 배열이 겹쳐지듯이 확장되므로 연결하고자 하는 배열들의 크기가 모두 같아야 함.\n",
    "         : 인수로 axis를 사용할 수 있고 0~2 까지 가능\n",
    "         \n",
    " - tile : 동일한 배열을 반복해서 연결할 때 사용 (비슷한 명령 repeat)\n",
    "         \n",
    "# 특수 메소드 (인덱서) : 메소드 이지만 ()를 사용하지 않음. 인덱싱과 같이 대괄호[] 를 사용하므로 인덱서라고 지칭\n",
    " - r_ 메소드 : hstack 과 비슷한 명령, 배열을 좌우로 연결. \n",
    " - c_ 메소드 : 배열의 차원을 증가시킨 후 좌우로 연결\n",
    "            : 그러므로 1차 배열을 연결하면 2차원 배열이 됨    \n",
    "\n",
    "\n",
    "'''"
   ]
  },
  {
   "cell_type": "code",
   "execution_count": 14,
   "id": "aa421a3d",
   "metadata": {},
   "outputs": [
    {
     "data": {
      "text/plain": [
       "array([[1., 1., 1.],\n",
       "       [1., 1., 1.]])"
      ]
     },
     "execution_count": 14,
     "metadata": {},
     "output_type": "execute_result"
    }
   ],
   "source": [
    "a1 = np.ones((2, 3)); a1"
   ]
  },
  {
   "cell_type": "code",
   "execution_count": 15,
   "id": "b644b487",
   "metadata": {},
   "outputs": [
    {
     "data": {
      "text/plain": [
       "array([[0., 0.],\n",
       "       [0., 0.]])"
      ]
     },
     "execution_count": 15,
     "metadata": {},
     "output_type": "execute_result"
    }
   ],
   "source": [
    "a2 = np.zeros((2, 2)); a2"
   ]
  },
  {
   "cell_type": "code",
   "execution_count": 16,
   "id": "2974da46",
   "metadata": {},
   "outputs": [
    {
     "data": {
      "text/plain": [
       "array([[1., 1., 1., 0., 0.],\n",
       "       [1., 1., 1., 0., 0.]])"
      ]
     },
     "execution_count": 16,
     "metadata": {},
     "output_type": "execute_result"
    }
   ],
   "source": [
    "# hstack\n",
    "np.hstack([a1, a2])"
   ]
  },
  {
   "cell_type": "code",
   "execution_count": 17,
   "id": "ea8fd611",
   "metadata": {},
   "outputs": [
    {
     "data": {
      "text/plain": [
       "array([[1., 1., 1.],\n",
       "       [1., 1., 1.]])"
      ]
     },
     "execution_count": 17,
     "metadata": {},
     "output_type": "execute_result"
    }
   ],
   "source": [
    "b1 = np.ones((2, 3)); b1"
   ]
  },
  {
   "cell_type": "code",
   "execution_count": 18,
   "id": "aefed12e",
   "metadata": {},
   "outputs": [
    {
     "data": {
      "text/plain": [
       "array([[0., 0., 0.],\n",
       "       [0., 0., 0.],\n",
       "       [0., 0., 0.]])"
      ]
     },
     "execution_count": 18,
     "metadata": {},
     "output_type": "execute_result"
    }
   ],
   "source": [
    "b2 = np.zeros((3, 3)); b2"
   ]
  },
  {
   "cell_type": "code",
   "execution_count": 19,
   "id": "d677dfc2",
   "metadata": {},
   "outputs": [
    {
     "data": {
      "text/plain": [
       "array([[1., 1., 1.],\n",
       "       [1., 1., 1.],\n",
       "       [0., 0., 0.],\n",
       "       [0., 0., 0.],\n",
       "       [0., 0., 0.]])"
      ]
     },
     "execution_count": 19,
     "metadata": {},
     "output_type": "execute_result"
    }
   ],
   "source": [
    "# vstack\n",
    "np.vstack([b1, b2])"
   ]
  },
  {
   "cell_type": "code",
   "execution_count": 21,
   "id": "0daa4387",
   "metadata": {},
   "outputs": [
    {
     "data": {
      "text/plain": [
       "array([[1., 1., 1., 1.],\n",
       "       [1., 1., 1., 1.],\n",
       "       [1., 1., 1., 1.]])"
      ]
     },
     "execution_count": 21,
     "metadata": {},
     "output_type": "execute_result"
    }
   ],
   "source": [
    "c1 = np.ones((3, 4)); c1"
   ]
  },
  {
   "cell_type": "code",
   "execution_count": 22,
   "id": "23d53af6",
   "metadata": {},
   "outputs": [
    {
     "data": {
      "text/plain": [
       "array([[0., 0., 0., 0.],\n",
       "       [0., 0., 0., 0.],\n",
       "       [0., 0., 0., 0.]])"
      ]
     },
     "execution_count": 22,
     "metadata": {},
     "output_type": "execute_result"
    }
   ],
   "source": [
    "c2 = np.zeros((3, 4)); c2"
   ]
  },
  {
   "cell_type": "code",
   "execution_count": 23,
   "id": "4dd60069",
   "metadata": {},
   "outputs": [
    {
     "data": {
      "text/plain": [
       "array([[[1., 0.],\n",
       "        [1., 0.],\n",
       "        [1., 0.],\n",
       "        [1., 0.]],\n",
       "\n",
       "       [[1., 0.],\n",
       "        [1., 0.],\n",
       "        [1., 0.],\n",
       "        [1., 0.]],\n",
       "\n",
       "       [[1., 0.],\n",
       "        [1., 0.],\n",
       "        [1., 0.],\n",
       "        [1., 0.]]])"
      ]
     },
     "execution_count": 23,
     "metadata": {},
     "output_type": "execute_result"
    }
   ],
   "source": [
    "# dstack\n",
    "np.dstack([c1, c2])"
   ]
  },
  {
   "cell_type": "code",
   "execution_count": 24,
   "id": "178cb492",
   "metadata": {},
   "outputs": [
    {
     "data": {
      "text/plain": [
       "(3, 4, 2)"
      ]
     },
     "execution_count": 24,
     "metadata": {},
     "output_type": "execute_result"
    }
   ],
   "source": [
    "(np.dstack([c1, c2])).shape     # (깊이, 행, 열)"
   ]
  },
  {
   "cell_type": "code",
   "execution_count": null,
   "id": "6de9e6a4",
   "metadata": {},
   "outputs": [],
   "source": [
    "# stack"
   ]
  },
  {
   "cell_type": "code",
   "execution_count": 26,
   "id": "2d79dd62",
   "metadata": {},
   "outputs": [
    {
     "data": {
      "text/plain": [
       "array([[1., 1., 1., 1.],\n",
       "       [1., 1., 1., 1.],\n",
       "       [1., 1., 1., 1.]])"
      ]
     },
     "execution_count": 26,
     "metadata": {},
     "output_type": "execute_result"
    }
   ],
   "source": [
    "c1"
   ]
  },
  {
   "cell_type": "code",
   "execution_count": 27,
   "id": "98d6aa80",
   "metadata": {},
   "outputs": [
    {
     "data": {
      "text/plain": [
       "array([[0., 0., 0., 0.],\n",
       "       [0., 0., 0., 0.],\n",
       "       [0., 0., 0., 0.]])"
      ]
     },
     "execution_count": 27,
     "metadata": {},
     "output_type": "execute_result"
    }
   ],
   "source": [
    "c2"
   ]
  },
  {
   "cell_type": "code",
   "execution_count": 28,
   "id": "99537b85",
   "metadata": {},
   "outputs": [
    {
     "data": {
      "text/plain": [
       "array([[[1., 1., 1., 1.],\n",
       "        [1., 1., 1., 1.],\n",
       "        [1., 1., 1., 1.]],\n",
       "\n",
       "       [[0., 0., 0., 0.],\n",
       "        [0., 0., 0., 0.],\n",
       "        [0., 0., 0., 0.]]])"
      ]
     },
     "execution_count": 28,
     "metadata": {},
     "output_type": "execute_result"
    }
   ],
   "source": [
    "np.stack([c1, c2])"
   ]
  },
  {
   "cell_type": "code",
   "execution_count": 29,
   "id": "ca340901",
   "metadata": {},
   "outputs": [
    {
     "data": {
      "text/plain": [
       "(2, 3, 4)"
      ]
     },
     "execution_count": 29,
     "metadata": {},
     "output_type": "execute_result"
    }
   ],
   "source": [
    "(np.stack([c1, c2])).shape"
   ]
  },
  {
   "cell_type": "code",
   "execution_count": 30,
   "id": "241a5c7c",
   "metadata": {},
   "outputs": [
    {
     "data": {
      "text/plain": [
       "array([[[1., 1., 1., 1.],\n",
       "        [1., 1., 1., 1.],\n",
       "        [1., 1., 1., 1.]],\n",
       "\n",
       "       [[0., 0., 0., 0.],\n",
       "        [0., 0., 0., 0.],\n",
       "        [0., 0., 0., 0.]]])"
      ]
     },
     "execution_count": 30,
     "metadata": {},
     "output_type": "execute_result"
    }
   ],
   "source": [
    "# stack option\n",
    "np.stack([c1, c2], axis=0)      # axis=0 : default"
   ]
  },
  {
   "cell_type": "code",
   "execution_count": 31,
   "id": "8668a04f",
   "metadata": {},
   "outputs": [
    {
     "data": {
      "text/plain": [
       "array([[[1., 1., 1., 1.],\n",
       "        [0., 0., 0., 0.]],\n",
       "\n",
       "       [[1., 1., 1., 1.],\n",
       "        [0., 0., 0., 0.]],\n",
       "\n",
       "       [[1., 1., 1., 1.],\n",
       "        [0., 0., 0., 0.]]])"
      ]
     },
     "execution_count": 31,
     "metadata": {},
     "output_type": "execute_result"
    }
   ],
   "source": [
    "np.stack([c1, c2], axis=1)    # axis 인수가 1이면 각각 행끼리 차원결합"
   ]
  },
  {
   "cell_type": "code",
   "execution_count": 34,
   "id": "fd93f313",
   "metadata": {},
   "outputs": [
    {
     "data": {
      "text/plain": [
       "(3, 2, 4)"
      ]
     },
     "execution_count": 34,
     "metadata": {},
     "output_type": "execute_result"
    }
   ],
   "source": [
    "(np.stack([c1, c2], axis=1)).shape"
   ]
  },
  {
   "cell_type": "code",
   "execution_count": 35,
   "id": "73324835",
   "metadata": {},
   "outputs": [
    {
     "data": {
      "text/plain": [
       "array([[[1., 0.],\n",
       "        [1., 0.],\n",
       "        [1., 0.],\n",
       "        [1., 0.]],\n",
       "\n",
       "       [[1., 0.],\n",
       "        [1., 0.],\n",
       "        [1., 0.],\n",
       "        [1., 0.]],\n",
       "\n",
       "       [[1., 0.],\n",
       "        [1., 0.],\n",
       "        [1., 0.],\n",
       "        [1., 0.]]])"
      ]
     },
     "execution_count": 35,
     "metadata": {},
     "output_type": "execute_result"
    }
   ],
   "source": [
    "np.stack([c1, c2], axis=2) "
   ]
  },
  {
   "cell_type": "code",
   "execution_count": 36,
   "id": "0194421f",
   "metadata": {},
   "outputs": [
    {
     "data": {
      "text/plain": [
       "(3, 4, 2)"
      ]
     },
     "execution_count": 36,
     "metadata": {},
     "output_type": "execute_result"
    }
   ],
   "source": [
    "(np.stack([c1, c2], axis=2)).shape"
   ]
  },
  {
   "cell_type": "code",
   "execution_count": null,
   "id": "f4938db5",
   "metadata": {},
   "outputs": [],
   "source": [
    "# 인덱서"
   ]
  },
  {
   "cell_type": "code",
   "execution_count": 37,
   "id": "cf6c0f9a",
   "metadata": {},
   "outputs": [],
   "source": [
    "# r_ 인덱서\n",
    "r1 = np.array([1, 2, 3])\n",
    "r2 = np.array([4, 5, 6])"
   ]
  },
  {
   "cell_type": "code",
   "execution_count": 38,
   "id": "89c22b34",
   "metadata": {},
   "outputs": [
    {
     "data": {
      "text/plain": [
       "array([1, 2, 3, 4, 5, 6])"
      ]
     },
     "execution_count": 38,
     "metadata": {},
     "output_type": "execute_result"
    }
   ],
   "source": [
    "np.r_[r1, r2]"
   ]
  },
  {
   "cell_type": "code",
   "execution_count": 39,
   "id": "aac54bc2",
   "metadata": {},
   "outputs": [
    {
     "data": {
      "text/plain": [
       "array([4, 5, 6, 1, 2, 3])"
      ]
     },
     "execution_count": 39,
     "metadata": {},
     "output_type": "execute_result"
    }
   ],
   "source": [
    "np.r_[r2, r1]"
   ]
  },
  {
   "cell_type": "code",
   "execution_count": 40,
   "id": "25041e99",
   "metadata": {},
   "outputs": [],
   "source": [
    "# c_ 인덱서\n",
    "r1 = np.array([1, 2, 3])\n",
    "r2 = np.array([4, 5, 6])"
   ]
  },
  {
   "cell_type": "code",
   "execution_count": 41,
   "id": "1b9fa9a0",
   "metadata": {},
   "outputs": [
    {
     "data": {
      "text/plain": [
       "array([[1, 4],\n",
       "       [2, 5],\n",
       "       [3, 6]])"
      ]
     },
     "execution_count": 41,
     "metadata": {},
     "output_type": "execute_result"
    }
   ],
   "source": [
    "np.c_[r1, r2]"
   ]
  },
  {
   "cell_type": "code",
   "execution_count": 42,
   "id": "dbfa636f",
   "metadata": {},
   "outputs": [],
   "source": [
    "# title"
   ]
  },
  {
   "cell_type": "code",
   "execution_count": 44,
   "id": "c7cdfea0",
   "metadata": {},
   "outputs": [
    {
     "data": {
      "text/plain": [
       "array([[ 0,  1,  2],\n",
       "       [11, 12, 13]])"
      ]
     },
     "execution_count": 44,
     "metadata": {},
     "output_type": "execute_result"
    }
   ],
   "source": [
    "t = np.array([[0, 1, 2], [11, 12, 13]])\n",
    "t"
   ]
  },
  {
   "cell_type": "code",
   "execution_count": 46,
   "id": "907991cb",
   "metadata": {},
   "outputs": [
    {
     "data": {
      "text/plain": [
       "array([[ 0,  1,  2,  0,  1,  2],\n",
       "       [11, 12, 13, 11, 12, 13]])"
      ]
     },
     "execution_count": 46,
     "metadata": {},
     "output_type": "execute_result"
    }
   ],
   "source": [
    "np.tile(t, 2)"
   ]
  },
  {
   "cell_type": "code",
   "execution_count": 47,
   "id": "4a2b0990",
   "metadata": {},
   "outputs": [
    {
     "data": {
      "text/plain": [
       "array([[ 0,  1,  2,  0,  1,  2],\n",
       "       [11, 12, 13, 11, 12, 13],\n",
       "       [ 0,  1,  2,  0,  1,  2],\n",
       "       [11, 12, 13, 11, 12, 13],\n",
       "       [ 0,  1,  2,  0,  1,  2],\n",
       "       [11, 12, 13, 11, 12, 13]])"
      ]
     },
     "execution_count": 47,
     "metadata": {},
     "output_type": "execute_result"
    }
   ],
   "source": [
    "# x, y 모두 반복 - tuple로 적용\n",
    "np.tile(t, (3, 2))"
   ]
  },
  {
   "cell_type": "code",
   "execution_count": null,
   "id": "82b7c5f7",
   "metadata": {},
   "outputs": [],
   "source": [
    "# tile 비슷한 명령 : repeat"
   ]
  },
  {
   "cell_type": "code",
   "execution_count": 48,
   "id": "483ceaf9",
   "metadata": {},
   "outputs": [
    {
     "data": {
      "text/plain": [
       "array([[1, 2],\n",
       "       [3, 4]])"
      ]
     },
     "execution_count": 48,
     "metadata": {},
     "output_type": "execute_result"
    }
   ],
   "source": [
    "t2 = np.array([[1, 2], [3, 4]])\n",
    "t2"
   ]
  },
  {
   "cell_type": "code",
   "execution_count": 49,
   "id": "98024dc9",
   "metadata": {},
   "outputs": [
    {
     "data": {
      "text/plain": [
       "array([1, 1, 2, 2, 3, 3, 4, 4])"
      ]
     },
     "execution_count": 49,
     "metadata": {},
     "output_type": "execute_result"
    }
   ],
   "source": [
    "np.repeat(t2, 2)           # 요소에 있는 값을 그대로 반복"
   ]
  },
  {
   "cell_type": "code",
   "execution_count": 51,
   "id": "bf0b4ba1",
   "metadata": {},
   "outputs": [
    {
     "data": {
      "text/plain": [
       "array([[1, 2, 1, 2],\n",
       "       [3, 4, 3, 4]])"
      ]
     },
     "execution_count": 51,
     "metadata": {},
     "output_type": "execute_result"
    }
   ],
   "source": [
    "np.tile(t2, 2)"
   ]
  },
  {
   "cell_type": "code",
   "execution_count": 55,
   "id": "099697fb",
   "metadata": {},
   "outputs": [
    {
     "data": {
      "text/plain": [
       "array([[1, 2],\n",
       "       [3, 4],\n",
       "       [1, 2],\n",
       "       [3, 4]])"
      ]
     },
     "execution_count": 55,
     "metadata": {},
     "output_type": "execute_result"
    }
   ],
   "source": [
    "np.tile(t2, (2, 1))"
   ]
  },
  {
   "cell_type": "code",
   "execution_count": 57,
   "id": "82d74ff2",
   "metadata": {},
   "outputs": [
    {
     "name": "stdout",
     "output_type": "stream",
     "text": [
      "[1 1 1 2 2 2 3 3 3 4 4 4]\n",
      "[[1 1 1 2 2 2]\n",
      " [3 3 3 4 4 4]]\n",
      "[[1 2]\n",
      " [1 2]\n",
      " [1 2]\n",
      " [3 4]\n",
      " [3 4]\n",
      " [3 4]]\n"
     ]
    }
   ],
   "source": [
    "# repeat에도 axis 속성이 있음\n",
    "print(np.repeat(t2, 3))\n",
    "print(np.repeat(t2, 3, axis=1))\n",
    "print(np.repeat(t2, 3, axis=0))"
   ]
  },
  {
   "cell_type": "code",
   "execution_count": null,
   "id": "24026c8c",
   "metadata": {},
   "outputs": [],
   "source": [
    "'''\n",
    "# 차원 축소 (dimension reduction) 연산\n",
    "\n",
    "ex) 1 2 3 4      -->   평균 : 2.5\n",
    "    5 6 7 8      -->   평균 : 4\n",
    "  \n",
    " : 행렬의 하나의 행에 있는 원소들을 데이터 집합으로 보고 그 집합의 평균을 구하면 각 집합당 하나의 값이 나오게 되고\n",
    "   그럼 그 값들만 따로 데이터집합으로 두면 차원 축소가 됨\n",
    "   \n",
    "> numpy에서 차원 축소 연산 명령 또는 메소드\n",
    " - 최대/최소 : min, max, argmin(최소값 위치), argmax(최대값 위치)\n",
    " - 통계 : sum, mean, median, std, var\n",
    " - 참/거짓 : all, any   \n",
    " \n",
    "> axis 속성을 이용하면 어느 차원으로 계산을 할 지 지정할 수 있으므로 대부분 차원축소 연산에 적용할 수 있음.\n",
    "\n",
    "'''"
   ]
  },
  {
   "cell_type": "code",
   "execution_count": 58,
   "id": "4459b5ac",
   "metadata": {},
   "outputs": [],
   "source": [
    "import numpy as np"
   ]
  },
  {
   "cell_type": "code",
   "execution_count": 59,
   "id": "5526eb5a",
   "metadata": {},
   "outputs": [
    {
     "data": {
      "text/plain": [
       "array([  1,  10, 100])"
      ]
     },
     "execution_count": 59,
     "metadata": {},
     "output_type": "execute_result"
    }
   ],
   "source": [
    "x = np.array([1, 10, 100]); x"
   ]
  },
  {
   "cell_type": "code",
   "execution_count": 60,
   "id": "f84f2ed0",
   "metadata": {},
   "outputs": [
    {
     "name": "stdout",
     "output_type": "stream",
     "text": [
      "1\n",
      "0\n"
     ]
    }
   ],
   "source": [
    "print(x.min())\n",
    "print(x.argmin())   # 최소값 위치"
   ]
  },
  {
   "cell_type": "code",
   "execution_count": 61,
   "id": "6154c83e",
   "metadata": {},
   "outputs": [
    {
     "name": "stdout",
     "output_type": "stream",
     "text": [
      "100\n",
      "2\n"
     ]
    }
   ],
   "source": [
    "print(x.max())\n",
    "print(x.argmax())"
   ]
  },
  {
   "cell_type": "code",
   "execution_count": 62,
   "id": "81fb5f4e",
   "metadata": {},
   "outputs": [
    {
     "name": "stdout",
     "output_type": "stream",
     "text": [
      "37.0\n",
      "111\n",
      "10.0\n"
     ]
    }
   ],
   "source": [
    "print(x.mean())\n",
    "print(x.sum())\n",
    "print(np.median(x))"
   ]
  },
  {
   "cell_type": "code",
   "execution_count": 63,
   "id": "59e28c91",
   "metadata": {},
   "outputs": [
    {
     "data": {
      "text/plain": [
       "False"
      ]
     },
     "execution_count": 63,
     "metadata": {},
     "output_type": "execute_result"
    }
   ],
   "source": [
    "# all : 배열의 모든 원소가 True 인지 평가하는 메소드\n",
    "np.all([True, True, False])"
   ]
  },
  {
   "cell_type": "code",
   "execution_count": 64,
   "id": "b4a0ada1",
   "metadata": {},
   "outputs": [
    {
     "data": {
      "text/plain": [
       "True"
      ]
     },
     "execution_count": 64,
     "metadata": {},
     "output_type": "execute_result"
    }
   ],
   "source": [
    "# any : 배열에서 1개 이상의 원소가 True인지 평가하는 메소드\n",
    "np.any([False, False, True, False])"
   ]
  },
  {
   "cell_type": "code",
   "execution_count": 65,
   "id": "ca5dbcc1",
   "metadata": {},
   "outputs": [
    {
     "data": {
      "text/plain": [
       "array([[1, 1],\n",
       "       [2, 2]])"
      ]
     },
     "execution_count": 65,
     "metadata": {},
     "output_type": "execute_result"
    }
   ],
   "source": [
    "# axis\n",
    "x = np.array([[1, 1], [2, 2]])\n",
    "x"
   ]
  },
  {
   "cell_type": "code",
   "execution_count": 66,
   "id": "6cd80726",
   "metadata": {},
   "outputs": [
    {
     "data": {
      "text/plain": [
       "6"
      ]
     },
     "execution_count": 66,
     "metadata": {},
     "output_type": "execute_result"
    }
   ],
   "source": [
    "x.sum()"
   ]
  },
  {
   "cell_type": "code",
   "execution_count": 67,
   "id": "762f6d95",
   "metadata": {},
   "outputs": [
    {
     "data": {
      "text/plain": [
       "array([3, 3])"
      ]
     },
     "execution_count": 67,
     "metadata": {},
     "output_type": "execute_result"
    }
   ],
   "source": [
    "x.sum(axis=0)  # 열 합계"
   ]
  },
  {
   "cell_type": "code",
   "execution_count": 68,
   "id": "a8eba6ee",
   "metadata": {},
   "outputs": [
    {
     "data": {
      "text/plain": [
       "array([2, 4])"
      ]
     },
     "execution_count": 68,
     "metadata": {},
     "output_type": "execute_result"
    }
   ],
   "source": [
    "x.sum(axis=1)   # 행 합계"
   ]
  },
  {
   "cell_type": "code",
   "execution_count": null,
   "id": "307b93fa",
   "metadata": {},
   "outputs": [],
   "source": []
  },
  {
   "cell_type": "code",
   "execution_count": null,
   "id": "dcf65024",
   "metadata": {},
   "outputs": [],
   "source": []
  },
  {
   "cell_type": "code",
   "execution_count": null,
   "id": "0aca0a91",
   "metadata": {},
   "outputs": [],
   "source": []
  },
  {
   "cell_type": "code",
   "execution_count": null,
   "id": "660381d3",
   "metadata": {},
   "outputs": [],
   "source": []
  },
  {
   "cell_type": "code",
   "execution_count": null,
   "id": "1302308e",
   "metadata": {},
   "outputs": [],
   "source": []
  }
 ],
 "metadata": {
  "kernelspec": {
   "display_name": "Python 3",
   "language": "python",
   "name": "python3"
  },
  "language_info": {
   "codemirror_mode": {
    "name": "ipython",
    "version": 3
   },
   "file_extension": ".py",
   "mimetype": "text/x-python",
   "name": "python",
   "nbconvert_exporter": "python",
   "pygments_lexer": "ipython3",
   "version": "3.8.8"
  }
 },
 "nbformat": 4,
 "nbformat_minor": 5
}
