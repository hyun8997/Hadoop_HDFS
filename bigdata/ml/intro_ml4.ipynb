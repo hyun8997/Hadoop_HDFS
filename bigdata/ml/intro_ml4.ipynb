{
 "cells": [
  {
   "cell_type": "markdown",
   "id": "a22c2b79",
   "metadata": {},
   "source": [
    "# 평가 (Evaluation)"
   ]
  },
  {
   "cell_type": "markdown",
   "id": "36d63950",
   "metadata": {},
   "source": [
    "## 분류의 성능 평가 지표\n",
    "\n",
    "* 정확도 (Accuracy)\n",
    "* 오차행렬 (Confusion Matrix)\n",
    "* 정밀도 (Precision)\n",
    "* 재현율 (Recall)\n",
    "* F1 스코어\n",
    "* ROC AUC"
   ]
  },
  {
   "cell_type": "markdown",
   "id": "13764bef",
   "metadata": {},
   "source": [
    "## 1) 정확도 (Accuracy)"
   ]
  },
  {
   "cell_type": "code",
   "execution_count": null,
   "id": "136e5ea2",
   "metadata": {},
   "outputs": [],
   "source": [
    "'''\n",
    "정확도 : 실제 데이터에서 예측 데이터가 얼마나 같은지를 판단하는 지표\n",
    "\n",
    "                예측 결과와 동일한 데이터 건수\n",
    "    정확도 = ----------------------------------\n",
    "                    전체 예측 데이터 건수\n",
    "\n",
    "       : 직관적으로 모델 예측 성능을 나타내는 지표\n",
    "       : 주의 - 이거 하나만으로 성능을 평가하면 안됨 (왜곡이 발생할 수 있음)\n",
    "       \n",
    "    ex) 타이타닉 데이터에서 다른 조건 없이 성별 하나만 가지고 모델이 학습을 하면 여성은 생존, 남성은 사망 이런 결과가 도출\n",
    "\n",
    "'''"
   ]
  },
  {
   "cell_type": "code",
   "execution_count": 30,
   "id": "31e5f372",
   "metadata": {},
   "outputs": [],
   "source": [
    "from sklearn.base import BaseEstimator\n",
    "import numpy as np\n",
    "\n",
    "class DummyClassifier(BaseEstimator):  #괄호안 상속\n",
    "    def fit(self, X, y=None):  #학습하지 않겠다\n",
    "        pass\n",
    "    \n",
    "    def predict(self, X):  # 예측 --> 학습없는 예측, 보고 바로 판단\n",
    "        pred = np.zeros((X.shape[0], 1))\n",
    "        for i in range(X.shape[0]):\n",
    "            if X['Sex'].iloc[i] == 1:\n",
    "                pred[i] = 0\n",
    "            else:\n",
    "                pred[i] = 1\n",
    "        return pred"
   ]
  },
  {
   "cell_type": "code",
   "execution_count": 31,
   "id": "49e4550b",
   "metadata": {},
   "outputs": [],
   "source": [
    "# 내가 만든 알고리즘을 통해 타이타닉 생존자 예측을 다시 수행\n",
    "\n",
    "from sklearn.preprocessing import LabelEncoder\n",
    "\n",
    "# null처리 함수\n",
    "def fillna(df):\n",
    "    df['Age'].fillna(titanic_df['Age'].mean(), inplace=True)\n",
    "    df['Cabin'].fillna('N', inplace=True)\n",
    "    df['Embarked'].fillna('N', inplace=True)\n",
    "    return df\n",
    "\n",
    "# 머신러닝 알고리즘에게 불필요한 속성 제거 - 사람 pk, 이름, 티켓번호\n",
    "def drop_features(df):\n",
    "    df.drop(['PassengerId', 'Name', 'Ticket'], axis=1, inplace=True)\n",
    "    return df\n",
    "\n",
    "# 레이블 인코딩\n",
    "def encoding_features(df):\n",
    "    df['Cabin'] = df['Cabin'].str[:1]  # 앞글자 하나만 남기고 인코딩\n",
    "    \n",
    "    features = ['Cabin', 'Sex', 'Embarked']\n",
    "    le = LabelEncoder()\n",
    "    for feature in features:\n",
    "        le = le.fit(df[feature])\n",
    "        df[feature] = le.transform(df[feature])\n",
    "    return df\n",
    "\n",
    "# 최종 전처리 수행\n",
    "def transform_features(df):\n",
    "    df = fillna(df)\n",
    "    df = drop_features(df)\n",
    "    df = encoding_features(df)\n",
    "    return df"
   ]
  },
  {
   "cell_type": "code",
   "execution_count": 32,
   "id": "2e320ce6",
   "metadata": {},
   "outputs": [],
   "source": [
    "from sklearn.model_selection import train_test_split\n",
    "from sklearn.metrics import accuracy_score\n",
    "import pandas as pd\n",
    "\n",
    "titanic_df = pd.read_csv('data/titanic_train.csv')\n",
    "\n",
    "# 레이블 데이터 셋\n",
    "y_titanic_df = titanic_df['Survived']\n",
    "X_titanic_df = titanic_df.drop('Survived', axis=1)\n",
    "\n",
    "# 학습할 피처 데이터 셋 - 전체 전처리\n",
    "X_titanic_df = transform_features(X_titanic_df)\n",
    "\n",
    "# 학습 세트와 테스트 데이터 세트 분리\n",
    "from sklearn.model_selection import train_test_split\n",
    "\n",
    "X_train, X_test, y_train, y_test = train_test_split(X_titanic_df, y_titanic_df, test_size=0.2, random_state=11)\n"
   ]
  },
  {
   "cell_type": "code",
   "execution_count": 33,
   "id": "22c011e1",
   "metadata": {},
   "outputs": [
    {
     "name": "stdout",
     "output_type": "stream",
     "text": [
      "DummyClassifier: 0.8324\n"
     ]
    }
   ],
   "source": [
    "# 내가 만든 학습알고리즘 이용하여 학습/예측/평가 수행\n",
    "my_clf = DummyClassifier()\n",
    "my_clf.fit(X_train, y_train)\n",
    "\n",
    "my_pred = my_clf.predict(X_test)\n",
    "print('DummyClassifier: {0:.4f}'.format(accuracy_score(y_test, my_pred)))\n",
    "\n",
    "#그냥 여자면 살고 남자면 죽게 했는데도 83%됨"
   ]
  },
  {
   "cell_type": "code",
   "execution_count": null,
   "id": "187771a1",
   "metadata": {},
   "outputs": [],
   "source": []
  },
  {
   "cell_type": "code",
   "execution_count": null,
   "id": "73179fdf",
   "metadata": {},
   "outputs": [],
   "source": []
  },
  {
   "cell_type": "code",
   "execution_count": null,
   "id": "189b6284",
   "metadata": {},
   "outputs": [],
   "source": []
  },
  {
   "cell_type": "code",
   "execution_count": null,
   "id": "36797439",
   "metadata": {},
   "outputs": [],
   "source": []
  },
  {
   "cell_type": "code",
   "execution_count": null,
   "id": "d7bf6368",
   "metadata": {},
   "outputs": [],
   "source": []
  },
  {
   "cell_type": "code",
   "execution_count": null,
   "id": "5bf1f8ea",
   "metadata": {},
   "outputs": [],
   "source": []
  },
  {
   "cell_type": "code",
   "execution_count": null,
   "id": "e2f87a10",
   "metadata": {},
   "outputs": [],
   "source": []
  },
  {
   "cell_type": "code",
   "execution_count": null,
   "id": "5c7372b4",
   "metadata": {},
   "outputs": [],
   "source": []
  },
  {
   "cell_type": "code",
   "execution_count": null,
   "id": "93a6cb65",
   "metadata": {},
   "outputs": [],
   "source": []
  },
  {
   "cell_type": "code",
   "execution_count": null,
   "id": "d114739f",
   "metadata": {},
   "outputs": [],
   "source": []
  },
  {
   "cell_type": "code",
   "execution_count": null,
   "id": "fc6052bc",
   "metadata": {},
   "outputs": [],
   "source": []
  },
  {
   "cell_type": "code",
   "execution_count": null,
   "id": "f5c124aa",
   "metadata": {},
   "outputs": [],
   "source": []
  },
  {
   "cell_type": "code",
   "execution_count": null,
   "id": "5f3c678f",
   "metadata": {},
   "outputs": [],
   "source": []
  }
 ],
 "metadata": {
  "kernelspec": {
   "display_name": "Python 3",
   "language": "python",
   "name": "python3"
  },
  "language_info": {
   "codemirror_mode": {
    "name": "ipython",
    "version": 3
   },
   "file_extension": ".py",
   "mimetype": "text/x-python",
   "name": "python",
   "nbconvert_exporter": "python",
   "pygments_lexer": "ipython3",
   "version": "3.8.8"
  }
 },
 "nbformat": 4,
 "nbformat_minor": 5
}
